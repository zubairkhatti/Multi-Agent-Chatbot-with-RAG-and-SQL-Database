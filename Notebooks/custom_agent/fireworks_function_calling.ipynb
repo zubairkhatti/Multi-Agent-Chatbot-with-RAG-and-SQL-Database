{
 "cells": [
  {
   "cell_type": "code",
   "execution_count": 1,
   "metadata": {},
   "outputs": [
    {
     "name": "stdout",
     "output_type": "stream",
     "text": [
      "True\n"
     ]
    }
   ],
   "source": [
    "import os\n",
    "from dotenv import load_dotenv\n",
    "from pydantic import create_model\n",
    "import inspect, json\n",
    "from inspect import Parameter\n",
    "from langchain_community.chat_models import ChatFireworks\n",
    "from langchain.schema import SystemMessage, HumanMessage\n",
    "\n",
    "print(load_dotenv())"
   ]
  },
  {
   "cell_type": "markdown",
   "metadata": {},
   "source": [
    "## **Custom agent**"
   ]
  },
  {
   "cell_type": "markdown",
   "metadata": {},
   "source": [
    "**Define the functions**"
   ]
  },
  {
   "cell_type": "code",
   "execution_count": 2,
   "metadata": {},
   "outputs": [],
   "source": [
    "def abc(num1:int, num2:int)->int:\n",
    "    \"Compute abc between two numbers\"\n",
    "    return 2*(num1) - 2*(num2)"
   ]
  },
  {
   "cell_type": "code",
   "execution_count": 3,
   "metadata": {},
   "outputs": [
    {
     "data": {
      "text/plain": [
       "-2"
      ]
     },
     "execution_count": 3,
     "metadata": {},
     "output_type": "execute_result"
    }
   ],
   "source": [
    "abc(2, 3)"
   ]
  },
  {
   "cell_type": "code",
   "execution_count": 4,
   "metadata": {},
   "outputs": [],
   "source": [
    "def jsonschema(f):\n",
    "    \"\"\"\n",
    "    Generate a JSON schema for the input parameters of the given function.\n",
    "\n",
    "    Parameters:\n",
    "        f (FunctionType): The function for which to generate the JSON schema.\n",
    "\n",
    "    Returns:\n",
    "        Dict: A dictionary containing the function name, description, and parameters schema.\n",
    "    \"\"\"\n",
    "    kw = {n: (o.annotation, ... if o.default == Parameter.empty else o.default)\n",
    "            for n, o in inspect.signature(f).parameters.items()}\n",
    "    s = create_model(f'Input for `{f.__name__}`', **kw).schema()\n",
    "    return dict(name=f.__name__, description=f.__doc__, parameters=s)"
   ]
  },
  {
   "cell_type": "code",
   "execution_count": 5,
   "metadata": {},
   "outputs": [
    {
     "name": "stderr",
     "output_type": "stream",
     "text": [
      "/tmp/ipykernel_18014/3911407637.py:13: PydanticDeprecatedSince20: The `schema` method is deprecated; use `model_json_schema` instead. Deprecated in Pydantic V2.0 to be removed in V3.0. See Pydantic V2 Migration Guide at https://errors.pydantic.dev/2.11/migration/\n",
      "  s = create_model(f'Input for `{f.__name__}`', **kw).schema()\n"
     ]
    },
    {
     "data": {
      "text/plain": [
       "{'name': 'abc',\n",
       " 'description': 'Compute abc between two numbers',\n",
       " 'parameters': {'properties': {'num1': {'title': 'Num1', 'type': 'integer'},\n",
       "   'num2': {'title': 'Num2', 'type': 'integer'}},\n",
       "  'required': ['num1', 'num2'],\n",
       "  'title': 'Input for `abc`',\n",
       "  'type': 'object'}}"
      ]
     },
     "execution_count": 5,
     "metadata": {},
     "output_type": "execute_result"
    }
   ],
   "source": [
    "abc_json = jsonschema(abc)\n",
    "abc_json"
   ]
  },
  {
   "cell_type": "code",
   "execution_count": 6,
   "metadata": {},
   "outputs": [],
   "source": [
    "model_name = os.getenv(\"FIREWORKS_MODEL_NAME\")"
   ]
  },
  {
   "cell_type": "markdown",
   "metadata": {},
   "source": [
    "**Setup LLM**"
   ]
  },
  {
   "cell_type": "code",
   "execution_count": 7,
   "metadata": {},
   "outputs": [
    {
     "name": "stderr",
     "output_type": "stream",
     "text": [
      "/tmp/ipykernel_18014/1514655232.py:1: LangChainDeprecationWarning: The class `ChatFireworks` was deprecated in LangChain 0.0.26 and will be removed in 1.0. An updated version of the class exists in the :class:`~langchain-fireworks package and should be used instead. To use it run `pip install -U :class:`~langchain-fireworks` and import as `from :class:`~langchain_fireworks import ChatFireworks``.\n",
      "  llm = ChatFireworks(\n",
      "ERROR:asyncio:Unclosed client session\n",
      "client_session: <aiohttp.client.ClientSession object at 0x71779b9a5550>\n"
     ]
    }
   ],
   "source": [
    "llm = ChatFireworks(\n",
    "    model=model_name,\n",
    "    temperature=os.getenv(\"TEMPERATURE\"),               # Lower temp for accuracy\n",
    "    max_tokens=200,                # Limit output to save cost\n",
    "    model_kwargs={\"top_p\": 0.9},                     # Reasonable diversity\n",
    ")\n",
    "\n",
    "messages = [\n",
    "    SystemMessage(content=\"You are a helpful assistant.\"),\n",
    "    HumanMessage(content=\"compute abc between 2 and 3\")\n",
    "]\n",
    "response = llm.invoke(messages)"
   ]
  },
  {
   "cell_type": "code",
   "execution_count": 8,
   "metadata": {},
   "outputs": [
    {
     "name": "stdout",
     "output_type": "stream",
     "text": [
      "<think>\n",
      "Okay, the user asked to \"compute abc between 2 and 3.\" Hmm, first I need to figure out what exactly they mean. The term \"abc\" isn't a standard mathematical function or operation that I know of. Maybe they meant something else. Let me think.\n",
      "\n",
      "Could \"abc\" be a typo or shorthand for something else? Like, maybe they meant \"a times b times c\" where a, b, c are numbers between 2 and 3? But that's not clear. Alternatively, maybe it's a reference to a specific formula or problem. Wait, sometimes in math problems, especially in algebra or calculus, variables like a, b, c can represent coefficients or constants. But without more context, it's hard to tell.\n",
      "\n",
      "Another possibility is that the user is referring to the abc conjecture, which is a famous problem in number theory. The abc conjecture involves triples of positive integers a, b, c such that a + b = c and they are coprime. But the user mentioned \"between 2 and 3,\" which might not fit directly. The abc conjecture isn't about computing a value between 2 and 3 but rather about properties of such triples. So maybe that's not it.\n",
      "\n",
      "Wait, maybe the user is asking for the product of three numbers a, b, c where each is between 2 and 3. But then they would need to specify the numbers or the method of computation. For example, if a, b, c are all 2.5, the product would be 15.625. But without specific values, this is just a guess.\n",
      "\n",
      "Alternatively, could it be a range? Like, compute the value of abc for all a, b, c in the interval [2, 3]? But that would be a range of possible products, which could vary from 2*2*2=8 up to 3*3*3=27. But again, the user didn't specify.\n",
      "\n",
      "Another thought: sometimes in math, \"abc\" might be a function or a variable name. But without more context, it's unclear. Maybe the user is referring to a specific problem or example they encountered. For instance, in some contexts, abc could be a placeholder for variables in an equation. If there's an equation involving a, b, c between 2 and 3, but again, no details.\n",
      "\n",
      "Wait, could it be a typo? Maybe they meant \"compute ab*c\" or \"compute a*b*c\" where a, b, c are numbers between 2 and 3? But again, without specific numbers, I can't compute a numerical answer. Unless they want the range of possible products, which would be from 8 to 27 as I thought before.\n",
      "\n",
      "Alternatively, maybe it's a question about the average value or some statistical measure of abc between 2 and 3. But that's too vague. The user might need to clarify their question.\n",
      "\n",
      "I should also consider if \"compute abc\" is part of a specific problem, like in a textbook or a course. Without that context, it's hard to provide an accurate answer. Maybe the user is referring to a particular formula where abc is a term, but they didn't mention it.\n",
      "\n",
      "Another angle: maybe \"abc\" is an abbreviation for a term, like \"abc\" as in the alphabet, but that doesn't make sense here. Or perhaps in a programming context, but again, not sure.\n",
      "\n",
      "Since the user hasn't provided enough information, my best bet is to ask for clarification. However, the user might expect me to make an assumption. Let me check if there's a common problem that uses \"abc\" in this way. For example, in some contexts, like in the area of a triangle with sides a, b, c, but that's usually denoted by other variables. Or maybe in a cubic equation, but again, not sure.\n",
      "\n",
      "Wait, if I consider that maybe \"abc\" is supposed to be a function or a value that's computed between 2 and 3, like integrating a function from 2 to 3, but then the function isn't specified. Alternatively, maybe the user is thinking of a specific problem where abc is defined, like in a problem involving three numbers a, b, c between 2 and 3 with certain conditions, and they need to compute their product. But without knowing the conditions, I can't proceed.\n",
      "\n",
      "In summary, the query is too vague. The user needs to provide more context or clarify what exactly they mean by \"compute abc between 2 and 3.\" But since I have to give an answer, maybe I can list possible interpretations and explain each. That way, the user can see what they might have meant and correct me if needed.\n",
      "\n",
      "So, possible interpretations:\n",
      "\n",
      "1. Compute the product a*b*c where a, b, c are numbers between 2 and 3. In this case, the product would range from 8 to 27, but without specific values, it's not a single number.\n",
      "\n",
      "2. The abc conjecture, but that's about number theory and doesn't involve computing a value between 2 and 3.\n",
      "\n",
      "3. Maybe a specific equation or problem that uses abc, but without more info, I can't know.\n",
      "\n",
      "Therefore, the safest answer is to ask the user to clarify their question, explaining the ambiguity. But if I have to proceed, I might need to state the assumptions and provide possible answers based on those.\n",
      "</think>\n",
      "\n",
      "The query \"compute abc between 2 and 3\" is ambiguous. Here are possible interpretations and explanations:\n",
      "\n",
      "1. **If \"abc\" refers to the product of three numbers (a, b, c) between 2 and 3**  \n",
      "   - The product $ a \\times b \\times c $ would range from $ 2 \\times 2 \\times 2 = 8 $ (minimum) to $ 3 \\times 3 \\times 3 = 27 $ (maximum).  \n",
      "   - **Example**: If $ a = 2.5 $, $ b = 2.5 $, $ c = 2.5 $, the product is $ 15.625 $.\n",
      "\n",
      "2. **If \"abc\" refers to the **abc conjecture** in number theory**  \n",
      "   - The **abc conjecture** involves triples of positive integers $ a, b, c $ such that $ a + b = c $ and $ \\gcd(a, b, c) = 1 $. However, this is unrelated to \"between 2 and 3\" and requires deeper number theory context.\n",
      "\n",
      "3. **If \"abc\" is a typo or shorthand**  \n",
      "   - Clarify whether you meant something else, such as:  \n",
      "     - Calculating a mathematical function (e.g., $ a^b^c $, $ a \\times b \\times c $, etc.).  \n",
      "     - Solving an equation or problem involving variables $ a, b, c $ in the interval [2, 3].\n",
      "\n",
      "**Next Steps**:  \n",
      "Please provide more context or clarify what \"abc\" represents in your question. For example:  \n",
      "- Are $ a, b, c $ variables, constants, or part of a specific equation?  \n",
      "- Is this related to a particular field (e.g., algebra, calculus, number theory)?  \n",
      "\n",
      "Without further details, it's challenging to provide a precise answer.\n"
     ]
    }
   ],
   "source": [
    "print(response.content)"
   ]
  },
  {
   "cell_type": "code",
   "execution_count": 9,
   "metadata": {},
   "outputs": [
    {
     "name": "stderr",
     "output_type": "stream",
     "text": [
      "ERROR:asyncio:Unclosed client session\n",
      "client_session: <aiohttp.client.ClientSession object at 0x71779b9a6fc0>\n"
     ]
    }
   ],
   "source": [
    "from fireworks.client import ChatCompletion\n",
    "\n",
    "messages= [\n",
    "    {\"role\": \"user\", \"content\": \"Compute abc between 2 and 3\"}\n",
    "]\n",
    "\n",
    "# Pass th function to LLM model\n",
    "response = ChatCompletion.create(\n",
    "    model=model_name,\n",
    "    messages=messages,\n",
    "    functions=[abc_json],\n",
    "    function_call=\"auto\",\n",
    "    temperature=0\n",
    ")"
   ]
  },
  {
   "cell_type": "code",
   "execution_count": 10,
   "metadata": {},
   "outputs": [
    {
     "data": {
      "text/plain": [
       "ChatCompletionResponse(id='857acfbf-a6cb-4482-9b37-82648bc2edc9', object='chat.completion', created=1754126005, model='accounts/fireworks/models/qwen3-30b-a3b', choices=[ChatCompletionResponseChoice(index=0, message=ChatMessage(role='assistant', content=\"<think>\\nOkay, the user wants me to compute abc between 2 and 3. Let me check the tools provided. There's a function called abc with parameters num1 and num2, both integers. The required parameters are num1 and num2. So I need to call this function with num1 as 2 and num2 as 3. I should structure the tool call in JSON inside the specified XML tags. Let me make sure the JSON is correctly formatted with the right parameters.\\n</think>\\n\\n\", reasoning_content=None, tool_calls=[ChatCompletionMessageToolCall(index=0, id='call_5Sxq29N2KyVMr2r7Jyomp0g7', type='function', function=ChatCompletionMessageToolCallFunction(name='abc', arguments='{\"num1\": 2, \"num2\": 3}'))], tool_call_id=None, function=None, name=None), finish_reason='tool_calls', logprobs=None, raw_output=None)], usage=UsageInfo(prompt_tokens=192, total_tokens=321, completion_tokens=129), perf_metrics=None)"
      ]
     },
     "execution_count": 10,
     "metadata": {},
     "output_type": "execute_result"
    }
   ],
   "source": [
    "response"
   ]
  },
  {
   "cell_type": "markdown",
   "metadata": {},
   "source": [
    "**Executing the function by extracting the info from the output of the model**"
   ]
  },
  {
   "cell_type": "code",
   "execution_count": 11,
   "metadata": {},
   "outputs": [
    {
     "name": "stdout",
     "output_type": "stream",
     "text": [
      "name='abc' arguments='{\"num1\": 2, \"num2\": 3}'\n",
      "{\"num1\": 2, \"num2\": 3}\n",
      "<class 'str'>\n"
     ]
    }
   ],
   "source": [
    "print(response.choices[0].message.tool_calls[0].function)\n",
    "print(response.choices[0].message.tool_calls[0].function.arguments)\n",
    "print(type(response.choices[0].message.tool_calls[0].function.arguments))"
   ]
  },
  {
   "cell_type": "code",
   "execution_count": 12,
   "metadata": {},
   "outputs": [
    {
     "name": "stdout",
     "output_type": "stream",
     "text": [
      "Function name: abc\n",
      "Function arguments: {'num1': 2, 'num2': 3}\n",
      "<class 'dict'>\n"
     ]
    }
   ],
   "source": [
    "func_name = response.choices[0].message.tool_calls[0].function.name\n",
    "func_args = json.loads(response.choices[0].message.tool_calls[0].function.arguments)\n",
    "\n",
    "print(\"Function name:\", func_name)\n",
    "print(\"Function arguments:\", func_args)\n",
    "print(type(func_args))"
   ]
  },
  {
   "cell_type": "code",
   "execution_count": 13,
   "metadata": {},
   "outputs": [
    {
     "name": "stdout",
     "output_type": "stream",
     "text": [
      "-2\n"
     ]
    }
   ],
   "source": [
    "if func_name == 'abc':\n",
    "    result = abc(**func_args)\n",
    "print(result)"
   ]
  },
  {
   "cell_type": "markdown",
   "metadata": {},
   "source": [
    "## **Using Langchain**"
   ]
  },
  {
   "cell_type": "code",
   "execution_count": 14,
   "metadata": {},
   "outputs": [],
   "source": [
    "from langchain_core.tools import tool\n",
    "\n",
    "@tool\n",
    "def abc(num1:int, num2:int)->int:\n",
    "    \"Compute abc between two numbers\"\n",
    "    return 2*(num1) - 2*(num2)"
   ]
  },
  {
   "cell_type": "code",
   "execution_count": 15,
   "metadata": {},
   "outputs": [
    {
     "data": {
      "text/plain": [
       "'Compute abc between two numbers'"
      ]
     },
     "execution_count": 15,
     "metadata": {},
     "output_type": "execute_result"
    }
   ],
   "source": [
    "abc.description"
   ]
  },
  {
   "cell_type": "code",
   "execution_count": 16,
   "metadata": {},
   "outputs": [
    {
     "name": "stderr",
     "output_type": "stream",
     "text": [
      "/tmp/ipykernel_18014/1970905835.py:7: PydanticDeprecatedSince20: The `schema` method is deprecated; use `model_json_schema` instead. Deprecated in Pydantic V2.0 to be removed in V3.0. See Pydantic V2 Migration Guide at https://errors.pydantic.dev/2.11/migration/\n",
      "  schema = create_model(f\"Input for {f.__name__}\", **kw).schema()\n",
      "ERROR:asyncio:Unclosed client session\n",
      "client_session: <aiohttp.client.ClientSession object at 0x71779b9ce300>\n"
     ]
    }
   ],
   "source": [
    "from typing import Callable\n",
    "def jsonschema(f: Callable) -> dict:\n",
    "    kw = {\n",
    "        n: (o.annotation, ... if o.default == inspect.Parameter.empty else o.default)\n",
    "        for n, o in inspect.signature(f).parameters.items()\n",
    "    }\n",
    "    schema = create_model(f\"Input for {f.__name__}\", **kw).schema()\n",
    "    return {\n",
    "        \"name\": f.__name__,\n",
    "        \"description\": f.__doc__,\n",
    "        \"parameters\": schema\n",
    "    }\n",
    "\n",
    "# Get JSONSchema of function\n",
    "abc_json = jsonschema(abc.func)\n",
    "tools = [abc_json]\n",
    "\n",
    "response = ChatCompletion.create(\n",
    "    model=model_name,\n",
    "    messages=messages,\n",
    "    functions=tools,\n",
    "    function_call=\"auto\",\n",
    "    temperature=0\n",
    ")"
   ]
  },
  {
   "cell_type": "code",
   "execution_count": 17,
   "metadata": {},
   "outputs": [
    {
     "data": {
      "text/plain": [
       "ChatCompletionMessageToolCall(index=0, id='call_YXqXqEtxXR136mjUmFVprykV', type='function', function=ChatCompletionMessageToolCallFunction(name='abc', arguments='{\"num1\": 2, \"num2\": 3}'))"
      ]
     },
     "execution_count": 17,
     "metadata": {},
     "output_type": "execute_result"
    }
   ],
   "source": [
    "response.choices[0].message.tool_calls[0]"
   ]
  }
 ],
 "metadata": {
  "kernelspec": {
   "display_name": ".chatbot",
   "language": "python",
   "name": "python3"
  },
  "language_info": {
   "codemirror_mode": {
    "name": "ipython",
    "version": 3
   },
   "file_extension": ".py",
   "mimetype": "text/x-python",
   "name": "python",
   "nbconvert_exporter": "python",
   "pygments_lexer": "ipython3",
   "version": "3.12.3"
  }
 },
 "nbformat": 4,
 "nbformat_minor": 2
}
