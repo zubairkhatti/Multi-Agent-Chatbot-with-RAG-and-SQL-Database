{
 "cells": [
  {
   "cell_type": "code",
   "execution_count": null,
   "metadata": {},
   "outputs": [],
   "source": [
    "from google import genai\n",
    "from google.genai import types"
   ]
  },
  {
   "cell_type": "code",
   "execution_count": null,
   "metadata": {},
   "outputs": [],
   "source": [
    "# The client gets the API key from the environment variable `GEMINI_API_KEY`.\n",
    "client = genai.Client()"
   ]
  },
  {
   "cell_type": "code",
   "execution_count": null,
   "metadata": {},
   "outputs": [],
   "source": [
    "# Define the model name\n",
    "model = \"gemini-2.5-flash\""
   ]
  },
  {
   "cell_type": "code",
   "execution_count": null,
   "metadata": {},
   "outputs": [],
   "source": [
    "# Function to perform text-based inference\n",
    "def text_inference(prompt:str)->str:\n",
    "    \"\"\"\n",
    "    Sends a text prompt to the AI model for inference and returns the model's response.\n",
    "\n",
    "    Args:\n",
    "        prompt (str): The text prompt or question to be sent to the AI model.\n",
    "\n",
    "    Returns:\n",
    "        str: The model's response based on the given text prompt.\n",
    "    \"\"\"\n",
    "    response = client.models.generate_content(\n",
    "        model=model,\n",
    "        contents=prompt,\n",
    "        config=types.GenerateContentConfig(\n",
    "            thinking_config=types.ThinkingConfig(thinking_budget=0) # Disables thinking\n",
    "        ),\n",
    "    )\n",
    "    return response.text\n"
   ]
  },
  {
   "cell_type": "code",
   "execution_count": null,
   "metadata": {},
   "outputs": [],
   "source": [
    "# Function to perform image-based inference\n",
    "def image_inference(image_path:str, prompt:str)->str:\n",
    "    \"\"\"\n",
    "    Sends a text prompt and an image to the AI model for inference, returning the model's response.\n",
    "\n",
    "    Args:\n",
    "        image_path (str): The file path to the image to be sent to the AI model.\n",
    "        prompt (str): The text prompt or question accompanying the image.\n",
    "\n",
    "    Returns:\n",
    "        str: The model's response based on the given text prompt and image.\n",
    "    \"\"\"\n",
    "    \n",
    "    with open(image_path, 'rb') as f:\n",
    "        image_bytes = f.read()\n",
    "\n",
    "    response = client.models.generate_content(\n",
    "        model=model,\n",
    "        contents=[\n",
    "        types.Part.from_bytes(\n",
    "            data=image_bytes,\n",
    "            mime_type='image/jpeg',\n",
    "        ),\n",
    "        prompt\n",
    "        ]\n",
    "    )\n",
    "\n",
    "    return response.text"
   ]
  },
  {
   "cell_type": "markdown",
   "metadata": {},
   "source": [
    "**Model input: Only text**"
   ]
  },
  {
   "cell_type": "code",
   "execution_count": 12,
   "metadata": {},
   "outputs": [
    {
     "name": "stdout",
     "output_type": "stream",
     "text": [
      "Hello! I'm doing well, thank you for asking. I'm an AI, so I don't experience emotions or \"days\" in the human sense, but I'm ready and available to assist you.\n",
      "\n",
      "How are you today? Is there anything I can help you with?\n"
     ]
    }
   ],
   "source": [
    "# Example usage\n",
    "text_prompt = \"\"\"Hello there. How are you today?\"\"\"\n",
    "# text_prompt = \"Explain how AI works in a few words\"\n",
    "print(text_inference(text_prompt))"
   ]
  },
  {
   "cell_type": "markdown",
   "metadata": {},
   "source": [
    "**Model input: Text and Image**"
   ]
  },
  {
   "cell_type": "code",
   "execution_count": 18,
   "metadata": {},
   "outputs": [
    {
     "name": "stdout",
     "output_type": "stream",
     "text": [
      "As an AI expert analyzing this image, I can provide a detailed description of its visual content and characteristics.\n",
      "\n",
      "The image presents a vibrant and refreshing composition centered around a stack of translucent, green-tinted ice cubes adorned with fresh mint leaves.\n",
      "\n",
      "**Key Elements and Observations:**\n",
      "\n",
      "1.  **Ice Cubes:**\n",
      "    *   **Color and Translucency:** The ice cubes are not solid green but rather clear or frosted ice that has been tinted green, possibly with mint flavoring, or are illuminated by green light. They exhibit varying degrees of translucency, allowing light to pass through and creating beautiful internal glows and refractions, especially where they appear lighter (almost white/clear) near the edges and top surfaces.\n",
      "    *   **Shape and Form:** They are roughly cubic, though their edges appear slightly rounded or softened, suggesting a natural melt or a specific mold design.\n",
      "    *   **Surface Texture:** The most striking feature is the abundant presence of glistening droplets of condensation and melting water on all visible surfaces of the cubes. These droplets range in size, reflecting light and adding a dynamic, \"fresh out of the freezer\" feel. Some internal imperfections or small air bubbles are also visible within the ice, enhancing realism.\n",
      "    *   **Arrangement:** The primary focus is a vertical stack of three ice cubes in the center. Additional, less distinct ice cubes are visible in the blurred foreground and background, extending the \"icy\" theme throughout the scene.\n",
      "\n",
      "2.  **Mint Leaves:**\n",
      "    *   **Color and Freshness:** The mint leaves are a vivid, crisp green, contrasting slightly with the cooler, more blue-green tones of the ice. They appear fresh and vibrant.\n",
      "    *   **Texture:** Fine veins are visible on the leaves, and they also carry small water droplets, consistent with the cold environment.\n",
      "    *   **Placement:** A cluster of leaves is prominently placed on the middle ice cube of the central stack, and another single leaf is visible on the bottom-most cube. Their natural arrangement adds an organic touch to the geometric ice.\n",
      "\n",
      "3.  **Background and Foreground:**\n",
      "    *   **Background:** The background is a soft, gradient blur of verdant green, similar to the color of the ice but smoother. This minimalist background ensures the ice and mint remain the sole focus, enhancing their visual impact.\n",
      "    *   **Foreground/Surface:** The ice cubes rest on a dark, possibly black or very dark green, wet surface. This surface is reflective, showing subtle highlights and blurry reflections of the ice and light. Numerous small water droplets and a few tiny melted ice chips are scattered across this surface, reinforcing the \"cold\" and \"wet\" theme.\n",
      "\n",
      "4.  **Lighting and Atmosphere:**\n",
      "    *   The lighting is bright and appears to come from above and/or slightly behind, causing the ice to glow from within and highlighting the water droplets. This backlighting effect creates a sense of depth and emphasizes the translucency of the ice.\n",
      "    *   The overall atmosphere is one of extreme freshness, coolness, and natural purity, strongly evoking sensations of a refreshing mint beverage or a cool, revitalizing sensation.\n",
      "\n",
      "**In summary,** the image is a high-quality, likely digitally rendered or meticulously photographed still life, designed to convey a strong sense of refreshment and natural coolness through its meticulous details of glistening ice, vibrant mint, and a harmonious green color palette. The crops provided effectively highlight these intricate details, from the water droplets to the texture of the ice and leaves.\n"
     ]
    }
   ],
   "source": [
    "image_path = \"image.png\"\n",
    "image_prompt = \"You are an AI expert. Answer this question.\"\n",
    "print(image_inference(image_path, image_prompt))"
   ]
  }
 ],
 "metadata": {
  "kernelspec": {
   "display_name": ".intermediate-chatbot",
   "language": "python",
   "name": "python3"
  },
  "language_info": {
   "codemirror_mode": {
    "name": "ipython",
    "version": 3
   },
   "file_extension": ".py",
   "mimetype": "text/x-python",
   "name": "python",
   "nbconvert_exporter": "python",
   "pygments_lexer": "ipython3",
   "version": "3.12.3"
  }
 },
 "nbformat": 4,
 "nbformat_minor": 2
}
