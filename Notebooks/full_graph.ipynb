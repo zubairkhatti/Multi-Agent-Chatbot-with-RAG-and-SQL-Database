{
 "cells": [
  {
   "cell_type": "markdown",
   "metadata": {},
   "source": [
    "**In this Notebook we will design the full graph using 3 tools: search_tool, RAG tool, and SQL-agent for travel database**"
   ]
  },
  {
   "cell_type": "code",
   "execution_count": 1,
   "metadata": {},
   "outputs": [
    {
     "data": {
      "text/plain": [
       "True"
      ]
     },
     "execution_count": 1,
     "metadata": {},
     "output_type": "execute_result"
    }
   ],
   "source": [
    "import os\n",
    "from dotenv import load_dotenv\n",
    "from pyprojroot import here\n",
    "load_dotenv()"
   ]
  },
  {
   "cell_type": "markdown",
   "metadata": {},
   "source": [
    "Set the environment variables"
   ]
  },
  {
   "cell_type": "code",
   "execution_count": 2,
   "metadata": {},
   "outputs": [],
   "source": [
    "os.environ['TAVILY_API_KEY'] = os.getenv(\"TAVILY_API_KEY\")"
   ]
  },
  {
   "cell_type": "markdown",
   "metadata": {},
   "source": [
    "### **1. initialize the Tools**"
   ]
  },
  {
   "cell_type": "markdown",
   "metadata": {},
   "source": [
    "**1.1 RAG tool design**"
   ]
  },
  {
   "cell_type": "code",
   "execution_count": 3,
   "metadata": {},
   "outputs": [
    {
     "name": "stdout",
     "output_type": "stream",
     "text": [
      "name='lookup_policy' description='Consult the company policies to check whether certain options are permitted.' args_schema=<class 'langchain_core.utils.pydantic.lookup_policy'> func=<function lookup_policy at 0x78236d69d6c0>\n"
     ]
    }
   ],
   "source": [
    "import chromadb\n",
    "import os\n",
    "import spacy\n",
    "from langchain_core.tools import tool\n",
    "\n",
    "\n",
    "EMBEDDING_MODEL = os.getenv(\"EMBEDDING_MODEL_NAME\")\n",
    "VECTORDB_DIR = \"data/airline_policy_vectordb\"\n",
    "K = 2\n",
    "\n",
    "@tool\n",
    "def lookup_policy(query: str) -> str:\n",
    "    \"\"\"Consult the company policies to check whether certain options are permitted.\"\"\"\n",
    "    \n",
    "    client = chromadb.PersistentClient(path=str(here(VECTORDB_DIR)))\n",
    "    collection = client.get_or_create_collection(name=\"rag-chroma\")\n",
    "\n",
    "    nlp = spacy.load(EMBEDDING_MODEL)\n",
    "    query_embedding = nlp(query).vector\n",
    "\n",
    "    results = collection.query(\n",
    "        query_embeddings=[query_embedding],\n",
    "        n_results=K,\n",
    "        include=[\"documents\"]\n",
    "    )\n",
    "    return \"\\n\\n\".join(results[\"documents\"][0])\n",
    "\n",
    "print(lookup_policy)"
   ]
  },
  {
   "cell_type": "markdown",
   "metadata": {},
   "source": [
    "Test the RAG tool"
   ]
  },
  {
   "cell_type": "code",
   "execution_count": 4,
   "metadata": {},
   "outputs": [
    {
     "name": "stdout",
     "output_type": "stream",
     "text": [
      "('hour cancellation policy that allows passengers to cancel their flights '\n",
      " 'within 24 hours of booking at +1-877-507-7341\\n'\n",
      " 'without penalty. This policy applies to all fare types, including '\n",
      " 'non-refundable tickets. If you cancel your Swiss Airlines\\n'\n",
      " \"flight within 24 hours of booking, you'll receive a full refund of your \"\n",
      " 'ticket price.\\n'\n",
      " 'How to Cancel Swiss Airlines Flight within 24 Hours? If you need to cancel '\n",
      " 'your Swiss Airlines flight within 24 hours of\\n'\n",
      " 'booking, you can do so easily online. Here are the steps to follow:\\n'\n",
      " 'Go to Swiss Airlines\\' website and click on the \"Manage your bookings\" tab. '\n",
      " 'Enter your booking reference number and last\\n'\n",
      " 'name to access your booking. Select the flight you want to cancel and click '\n",
      " 'on \"Cancel flight.\" Confirm your cancellation\\n'\n",
      " \"and you'll receive a full refund of your ticket price. If you booked your \"\n",
      " \"Swiss Airlines flight through a travel agent, you'll\\n\"\n",
      " 'need to contact them directly to cancel your flight within 24 hours.\\n'\n",
      " 'Important Things to Keep in Mind for Swiss Airlines 24 Hour Cancellation '\n",
      " 'Here are some important things to keep in mind\\n'\n",
      " 'when cancelling your Swiss Airlines flight within 24 hours:\\n'\n",
      " \"Swiss Airlines' 24 hour cancellation policy only applies to flights booked \"\n",
      " 'directly through Swiss Airlines. If you booked\\n'\n",
      " \"your flight through a travel agent or third-party website, you'll need to \"\n",
      " 'check their cancellation policy. If you cancel your\\n'\n",
      " 'Swiss Airlines flight after the 24 hour window, you may be subject to '\n",
      " 'cancellation fees or penalties. If you have a non-\\n'\n",
      " \"refundable ticket and cancel your flight within 24 hours of booking, you'll \"\n",
      " 'receive a full refund of your ticket price.\\n'\n",
      " '\\n'\n",
      " 'invoice with the additional costs of CHF 2.90 minus the amount to be '\n",
      " 'refunded.\\n'\n",
      " 'Do I have to pay the invoice in full before boarding my flight? No, you can '\n",
      " 'board your flight regardless of whether you\\n'\n",
      " 'have paid your POWERPAY invoice or not.\\n'\n",
      " 'Do you have any queries about your invoice? If you have any queries about '\n",
      " 'invoices, please contact POWERPAY’s\\n'\n",
      " 'customer service.\\n'\n",
      " 'E-mail: info@powerpay.ch\\n'\n",
      " 'Hotline: +41 58 806 06 22\\n'\n",
      " 'Customer service is available Mondays to Fridays from 8:00 to 17:00 h.\\n'\n",
      " 'Can I give my business address for payments? Purchases on account can only '\n",
      " 'be made on submission of your private\\n'\n",
      " 'address.')\n"
     ]
    }
   ],
   "source": [
    "from pprint import pprint\n",
    "pprint(lookup_policy.invoke(\"can I cancel my ticket?\"))"
   ]
  },
  {
   "cell_type": "markdown",
   "metadata": {},
   "source": [
    "**1.2 Search tool design**"
   ]
  },
  {
   "cell_type": "code",
   "execution_count": 5,
   "metadata": {},
   "outputs": [
    {
     "name": "stderr",
     "output_type": "stream",
     "text": [
      "/tmp/ipykernel_62715/2142490942.py:3: LangChainDeprecationWarning: The class `TavilySearchResults` was deprecated in LangChain 0.3.25 and will be removed in 1.0. An updated version of the class exists in the :class:`~langchain-tavily package and should be used instead. To use it run `pip install -U :class:`~langchain-tavily` and import as `from :class:`~langchain_tavily import TavilySearch``.\n",
      "  tavily_search = TavilySearchResults(max_results=2)\n"
     ]
    }
   ],
   "source": [
    "from langchain_community.tools.tavily_search import TavilySearchResults\n",
    "\n",
    "tavily_search = TavilySearchResults(max_results=2)\n",
    "\n",
    "@tool\n",
    "def search_tool(query: str) -> str:\n",
    "    \"\"\"Search the web using Tavily and return the results as a string.\"\"\"\n",
    "    results = tavily_search.invoke(query)\n",
    "    # Optionally, format the results as a string for LLM consumption\n",
    "    if isinstance(results, list):\n",
    "        return \"\\n\\n\".join(\n",
    "            f\"{item.get('title', '')}\\n{item.get('url', '')}\\n{item.get('content', '')}\"\n",
    "            for item in results\n",
    "        )\n",
    "    return str(results)"
   ]
  },
  {
   "cell_type": "markdown",
   "metadata": {},
   "source": [
    "Test the Search Tool"
   ]
  },
  {
   "cell_type": "code",
   "execution_count": 6,
   "metadata": {},
   "outputs": [
    {
     "data": {
      "text/plain": [
       "'Introduction to LangGraph: A Beginner\\'s Guide - Medium\\nhttps://medium.com/@cplog/introduction-to-langgraph-a-beginners-guide-14f9be027141\\nStateful Graph: LangGraph revolves around the concept of a stateful graph, where each node in the graph represents a step in your computation, and the graph maintains a state that is passed around and updated as the computation progresses.\\n   Nodes: Nodes are the building blocks of your LangGraph. Each node represents a function or a computation step. You define nodes to perform specific tasks, such as processing input, making decisions, or interacting with external APIs.\\n\\nstate graph node - GitHub Pages\\nhttps://langchain-ai.github.io/langgraph/concepts/low_level/\\nclass State(MessagesState):\\n    documents: list[str]\\n```\\n\\nNodes¶\\n---------------------------------------------------------------------------------------------\\n\\nIn LangGraph, nodes are typically python functions (sync or async) where the first positional argument is the state, and (optionally), the second positional argument is a \"config\", containing optional configurable parameters (such as a `thread_id`).\\n\\nSimilar to `NetworkX`, you add these nodes to a graph using the add_node method: [...] In short: _nodes do the work, edges tell what to do next_.\\n\\nLangGraph\\'s underlying graph algorithm uses message passing to define a general program. When a Node completes its operation, it sends messages along one or more edges to other node(s). These recipient nodes then execute their functions, pass the resulting messages to the next set of nodes, and the process continues. Inspired by Google\\'s Pregel system, the program proceeds in discrete \"super-steps.\" [...] 3.   `Edges`: Python functions that determine which `Node` to execute next based on the current `State`. They can be conditional branches or fixed transitions.\\n\\nBy composing `Nodes` and `Edges`, you can create complex, looping workflows that evolve the `State` over time. The real power, though, comes from how LangGraph manages that `State`. To emphasize: `Nodes` and `Edges` are nothing more than Python functions - they can contain an LLM or just good ol\\' Python code.'"
      ]
     },
     "execution_count": 6,
     "metadata": {},
     "output_type": "execute_result"
    }
   ],
   "source": [
    "search_tool.invoke(\"What's a 'node' in LangGraph?\")"
   ]
  },
  {
   "cell_type": "markdown",
   "metadata": {},
   "source": [
    "**1.3 SQL agent tool design**"
   ]
  },
  {
   "cell_type": "code",
   "execution_count": 7,
   "metadata": {},
   "outputs": [],
   "source": [
    "from langchain_community.utilities import SQLDatabase\n",
    "from langchain.chains import create_sql_query_chain\n",
    "from langchain_community.tools.sql_database.tool import QuerySQLDataBaseTool\n",
    "from langchain_core.prompts import PromptTemplate\n",
    "from langchain_google_genai import ChatGoogleGenerativeAI\n",
    "from langchain_core.output_parsers import StrOutputParser\n",
    "from langchain_core.runnables import RunnablePassthrough, RunnableLambda\n",
    "from operator import itemgetter"
   ]
  },
  {
   "cell_type": "code",
   "execution_count": 8,
   "metadata": {},
   "outputs": [],
   "source": [
    "import re\n",
    "\n",
    "def extract_sql_query(text: str) -> str:\n",
    "    \"\"\"\n",
    "    Extract a clean SQL query from a possibly formatted or prefixed LLM output.\n",
    "    Handles code blocks, 'SQLQuery:' prefix, and various SQL command types.\n",
    "    \"\"\"\n",
    "    text = text.strip()\n",
    "\n",
    "    # Step 1: Remove code block markers\n",
    "    if text.startswith(\"```\"):\n",
    "        lines = text.splitlines()\n",
    "        # Remove first/last lines if they're ``` or ```sql\n",
    "        if lines[0].startswith(\"```\") and lines[-1].startswith(\"```\"):\n",
    "            text = \"\\n\".join(lines[1:-1]).strip()\n",
    "\n",
    "    # Step 2: Remove known prefixes like \"SQLQuery:\"\n",
    "    text = re.sub(r\"^(SQLQuery:|Query:)\\s*\", \"\", text, flags=re.IGNORECASE)\n",
    "\n",
    "    # Step 3: Extract only the actual SQL statement (any type)\n",
    "    match = re.search(\n",
    "        r\"(SELECT|INSERT|UPDATE|DELETE|PRAGMA|CREATE|DROP|ALTER|DESCRIBE|SHOW)\\s.+\",\n",
    "        text,\n",
    "        flags=re.IGNORECASE | re.DOTALL,\n",
    "    )\n",
    "    if match:\n",
    "        query = match.group(0).strip()\n",
    "        # Remove trailing backticks or semicolons\n",
    "        return query.rstrip(\";`\").strip()\n",
    "\n",
    "    # Step 4: If nothing matched, return original (but cleaned)\n",
    "    return text\n"
   ]
  },
  {
   "cell_type": "markdown",
   "metadata": {},
   "source": [
    "**SQL agent chain**"
   ]
  },
  {
   "cell_type": "code",
   "execution_count": 9,
   "metadata": {},
   "outputs": [
    {
     "name": "stderr",
     "output_type": "stream",
     "text": [
      "/tmp/ipykernel_62715/3863574311.py:18: LangChainDeprecationWarning: The class `QuerySQLDataBaseTool` was deprecated in LangChain 0.3.12 and will be removed in 1.0. An updated version of the class exists in the :class:`~langchain-community package and should be used instead. To use it run `pip install -U :class:`~langchain-community` and import as `from :class:`~langchain_community.tools import QuerySQLDatabaseTool``.\n",
      "  execute_query = QuerySQLDataBaseTool(db=db)\n"
     ]
    }
   ],
   "source": [
    "sqldb_directory = here(\"data/travel.sqlite\")\n",
    "\n",
    "sql_llm = ChatGoogleGenerativeAI(\n",
    "    model=os.getenv(\"MODEL_NAME\"),\n",
    "    temperature=os.getenv(\"TEMPERATURE\"),\n",
    "    google_api_key=os.getenv(\"GEMINI_API_KEY\")\n",
    ")\n",
    "\n",
    "system_role = \"\"\"Given the following user question, corresponding SQL query, and SQL result, answer the user question.\\n\n",
    "    Question: {question}\\n\n",
    "    SQL Query: {query}\\n\n",
    "    SQL Result: {result}\\n\n",
    "    Answer:\n",
    "    \"\"\"\n",
    "db = SQLDatabase.from_uri(\n",
    "    f\"sqlite:///{sqldb_directory}\")\n",
    "\n",
    "execute_query = QuerySQLDataBaseTool(db=db)\n",
    "write_query = create_sql_query_chain(\n",
    "    sql_llm, db)\n",
    "clean_query_output = RunnableLambda(extract_sql_query)\n",
    "answer_prompt = PromptTemplate.from_template(\n",
    "    system_role)\n",
    "\n",
    "\n",
    "answer = answer_prompt | sql_llm | StrOutputParser()\n",
    "chain = (\n",
    "    RunnablePassthrough.assign(raw_query=write_query).assign(\n",
    "        query=itemgetter(\"raw_query\") | clean_query_output\n",
    "    ).assign(\n",
    "        result=itemgetter(\"query\") | execute_query\n",
    "    )\n",
    "    | answer\n",
    ")\n",
    "\n",
    "@tool\n",
    "def query_sqldb(query: str) -> str:\n",
    "    \"\"\"Query the Swiss Airline SQL Database and access all the company's information. Input should be a search query.\"\"\"\n",
    "    response = chain.invoke({\"question\": query})\n",
    "    return response"
   ]
  },
  {
   "cell_type": "code",
   "execution_count": 10,
   "metadata": {},
   "outputs": [
    {
     "name": "stdout",
     "output_type": "stream",
     "text": [
      "You have 11 tables in the database. Their names are: aircrafts_data, airports_data, boarding_passes, bookings, flights, seats, ticket_flights, tickets, car_rentals, hotels, and trip_recommendations.\n"
     ]
    }
   ],
   "source": [
    "# Test the chain\n",
    "message = \"How many tables do I have in the database? and what are their names?\"\n",
    "response = query_sqldb.invoke(message)\n",
    "print(response)"
   ]
  },
  {
   "cell_type": "markdown",
   "metadata": {},
   "source": [
    "**Define Your Tools as JSON Schemas**"
   ]
  },
  {
   "cell_type": "code",
   "execution_count": 11,
   "metadata": {},
   "outputs": [],
   "source": [
    "from pydantic import create_model\n",
    "import inspect\n",
    "\n",
    "def jsonschema(f):\n",
    "    kw = {n: (o.annotation, ... if o.default == inspect.Parameter.empty else o.default)\n",
    "          for n, o in inspect.signature(f).parameters.items()}\n",
    "    s = create_model(f'Input for `{f.__name__}`', **kw).model_json_schema()  # Use model_json_schema for Pydantic v2+\n",
    "    return dict(name=f.__name__, description=f.__doc__, parameters=s)"
   ]
  },
  {
   "cell_type": "markdown",
   "metadata": {},
   "source": [
    "**Wrap up the tools into a list**"
   ]
  },
  {
   "cell_type": "code",
   "execution_count": 12,
   "metadata": {},
   "outputs": [],
   "source": [
    "# For each tool, generate its schema\n",
    "lookup_policy_json = jsonschema(lookup_policy.func)\n",
    "query_sqldb_json = jsonschema(query_sqldb.func)\n",
    "search_tool_json = jsonschema(search_tool.func)\n",
    "tools = [lookup_policy_json, query_sqldb_json, search_tool_json]"
   ]
  },
  {
   "cell_type": "markdown",
   "metadata": {},
   "source": [
    "### **2. Initialize the Graph State**\n",
    "\n",
    "Define our StateGraph's state as a typed dictionary containing an append-only list of messages. These messages form the chat history, which is all the state our chatbot needs."
   ]
  },
  {
   "cell_type": "code",
   "execution_count": 13,
   "metadata": {},
   "outputs": [],
   "source": [
    "from typing import Annotated\n",
    "from typing_extensions import TypedDict\n",
    "from langgraph.graph import StateGraph, START\n",
    "from langgraph.graph.message import add_messages\n",
    "\n",
    "\n",
    "class State(TypedDict):\n",
    "    messages: Annotated[list, add_messages]\n",
    "\n",
    "\n",
    "graph_builder = StateGraph(State)"
   ]
  },
  {
   "cell_type": "markdown",
   "metadata": {},
   "source": [
    "### **3. Define the Graph Nodes**"
   ]
  },
  {
   "cell_type": "markdown",
   "metadata": {},
   "source": [
    "**3.1 First node: chatbot**"
   ]
  },
  {
   "cell_type": "code",
   "execution_count": 14,
   "metadata": {},
   "outputs": [
    {
     "data": {
      "text/plain": [
       "<langgraph.graph.state.StateGraph at 0x78234b5ef710>"
      ]
     },
     "execution_count": 14,
     "metadata": {},
     "output_type": "execute_result"
    }
   ],
   "source": [
    "from fireworks.client import ChatCompletion\n",
    "from langchain_core.messages import AIMessage\n",
    "\n",
    "model_name = os.getenv(\"FIREWORKS_MODEL_NAME\")\n",
    "\n",
    "def chatbot(state):\n",
    "    # Convert state[\"messages\"] to OpenAI-style messages\n",
    "    messages = []\n",
    "    for msg in state[\"messages\"]:\n",
    "        if isinstance(msg, dict):\n",
    "            # Already in OpenAI format\n",
    "            messages.append(msg)\n",
    "        else:\n",
    "            # Convert from LangChain message to dict\n",
    "            if hasattr(msg, 'model_dump'):\n",
    "                msg_dict = msg.model_dump()\n",
    "            else:\n",
    "                msg_dict = msg.__dict__\n",
    "            \n",
    "            # Filter to only include required fields\n",
    "            if msg_dict.get('type') == 'ai' or msg_dict.get('role') == 'assistant':\n",
    "                # Handle assistant messages with tool calls\n",
    "                converted_msg = {\n",
    "                    'role': 'assistant',\n",
    "                    'content': msg_dict.get('content', '')\n",
    "                }\n",
    "                \n",
    "                # Handle tool calls if present\n",
    "                if 'tool_calls' in msg_dict and msg_dict['tool_calls']:\n",
    "                    converted_tool_calls = []\n",
    "                    for tool_call in msg_dict['tool_calls']:\n",
    "                        if isinstance(tool_call, dict):\n",
    "                            # Convert from LangChain format to Fireworks format\n",
    "                            if 'name' in tool_call and 'args' in tool_call:\n",
    "                                converted_tool_calls.append({\n",
    "                                    'function': {\n",
    "                                        'name': tool_call['name'],\n",
    "                                        'arguments': json.dumps(tool_call['args'])\n",
    "                                    },\n",
    "                                    'id': tool_call.get('id', '')\n",
    "                                })\n",
    "                            elif 'function' in tool_call:\n",
    "                                # Already in correct format\n",
    "                                converted_tool_calls.append(tool_call)\n",
    "                    \n",
    "                    if converted_tool_calls:\n",
    "                        converted_msg['tool_calls'] = converted_tool_calls\n",
    "                \n",
    "                messages.append(converted_msg)\n",
    "                \n",
    "            elif msg_dict.get('type') == 'human' or msg_dict.get('role') == 'user':\n",
    "                messages.append({\n",
    "                    'role': 'user',\n",
    "                    'content': msg_dict.get('content', '')\n",
    "                })\n",
    "            elif msg_dict.get('type') == 'tool' or msg_dict.get('role') == 'tool':\n",
    "                messages.append({\n",
    "                    'role': 'tool',\n",
    "                    'content': msg_dict.get('content', ''),\n",
    "                    'tool_call_id': msg_dict.get('tool_call_id', '')\n",
    "                })\n",
    "    \n",
    "    response = ChatCompletion.create(\n",
    "        model=model_name,\n",
    "        messages=messages,\n",
    "        functions=tools,\n",
    "        function_call=\"auto\",\n",
    "        temperature=0\n",
    "    )\n",
    "    \n",
    "    # Convert the response to LangChain format\n",
    "    response_msg = response.choices[0].message\n",
    "    \n",
    "    \n",
    "    \n",
    "    # Convert to LangChain AIMessage\n",
    "    # Handle tool calls if present\n",
    "    if hasattr(response_msg, 'tool_calls') and response_msg.tool_calls:\n",
    "        tool_calls = []\n",
    "        for tool_call in response_msg.tool_calls:\n",
    "            \n",
    "            # Convert Fireworks tool call to LangChain format\n",
    "            if hasattr(tool_call, 'function'):\n",
    "                converted_tool_call = {\n",
    "                    'name': tool_call.function.name,\n",
    "                    'args': json.loads(tool_call.function.arguments),\n",
    "                    'id': tool_call.id,\n",
    "                    'type': 'tool_call'\n",
    "                }\n",
    "            else:\n",
    "                # Already in dict format\n",
    "                converted_tool_call = tool_call\n",
    "            \n",
    "            tool_calls.append(converted_tool_call)\n",
    "        \n",
    "        ai_message = AIMessage(\n",
    "            content=response_msg.content,\n",
    "            tool_calls=tool_calls\n",
    "        )\n",
    "    else:\n",
    "        ai_message = AIMessage(content=response_msg.content)\n",
    "    \n",
    "    return {\"messages\": [ai_message]}\n",
    "        \n",
    "graph_builder.add_node(\"chatbot\", chatbot)"
   ]
  },
  {
   "cell_type": "markdown",
   "metadata": {},
   "source": [
    "Next, we need to create a function that will run the tools when they are needed. To do this, we'll add the tools to a new node.\n",
    "\n",
    "In the example below, we'll build a BasicToolNode. This node will check the latest message and, if it contains a request to use a tool, it will run the appropriate tool. This works because many language models (like Anthropic, OpenAI, and Google Gemini) support tool usage."
   ]
  },
  {
   "cell_type": "markdown",
   "metadata": {},
   "source": [
    "**3.2 Second node: BasicToolNode that runs the appropriate tool based on the primary agent's output**"
   ]
  },
  {
   "cell_type": "code",
   "execution_count": 15,
   "metadata": {},
   "outputs": [
    {
     "data": {
      "text/plain": [
       "<langgraph.graph.state.StateGraph at 0x78234b5ef710>"
      ]
     },
     "execution_count": 15,
     "metadata": {},
     "output_type": "execute_result"
    }
   ],
   "source": [
    "import json\n",
    "\n",
    "class BasicToolNode:\n",
    "    \"\"\"A node that runs the tools requested in the last AIMessage.\"\"\"\n",
    "\n",
    "    def __init__(self, tools: list) -> None:\n",
    "        # For StructuredTool objects, use .name attribute\n",
    "        self.tools_by_name = {tool.name: tool for tool in tools}\n",
    "\n",
    "    def __call__(self, inputs: dict):\n",
    "        messages = inputs.get(\"messages\", [])\n",
    "        message = messages[-1]\n",
    "        outputs = []\n",
    "        \n",
    "        for tool_call in message.tool_calls:\n",
    "\n",
    "            # Handle both dictionary and object formats\n",
    "            if isinstance(tool_call, dict):\n",
    " \n",
    "                # Check if it's the new format (name/args directly) or old format (function nested)\n",
    "                if \"function\" in tool_call:\n",
    "                    # Old format: {'function': {'name': '...', 'arguments': '...'}, 'id': '...'}\n",
    "                    tool_name = tool_call[\"function\"][\"name\"]\n",
    "                    tool_args = json.loads(tool_call[\"function\"][\"arguments\"])\n",
    "                    tool_call_id = tool_call[\"id\"]\n",
    "                else:\n",
    "                    # New format: {'name': '...', 'args': {...}, 'id': '...'}\n",
    "                    tool_name = tool_call[\"name\"]\n",
    "                    tool_args = tool_call[\"args\"]  # Already a dict, no need to json.loads\n",
    "                    tool_call_id = tool_call[\"id\"]\n",
    "            else:\n",
    "                # Object format (original Fireworks object)\n",
    "                tool_name = tool_call.function.name\n",
    "                tool_args = json.loads(tool_call.function.arguments)\n",
    "                tool_call_id = tool_call.id\n",
    "            \n",
    "            # Get the tool and invoke it\n",
    "            if tool_name in self.tools_by_name:\n",
    "                tool = self.tools_by_name[tool_name]\n",
    "                result = tool.invoke(tool_args)\n",
    "            else:\n",
    "                result = f\"Unknown tool: {tool_name}\"\n",
    "            \n",
    "            outputs.append({\n",
    "                \"role\": \"tool\",\n",
    "                \"content\": json.dumps(result),\n",
    "                \"name\": tool_name,\n",
    "                \"tool_call_id\": tool_call_id,\n",
    "            })\n",
    "        return {\"messages\": outputs}\n",
    "                \n",
    "# Create the tool node with your StructuredTool objects\n",
    "tool_node = BasicToolNode(\n",
    "    tools=[\n",
    "        search_tool, lookup_policy, query_sqldb\n",
    "    ])\n",
    "graph_builder.add_node(\"tools\", tool_node)"
   ]
  },
  {
   "cell_type": "markdown",
   "metadata": {},
   "source": [
    "### **4. Define the entry point and graph edges**"
   ]
  },
  {
   "cell_type": "markdown",
   "metadata": {},
   "source": [
    "**Aproach 1**"
   ]
  },
  {
   "cell_type": "code",
   "execution_count": 16,
   "metadata": {},
   "outputs": [
    {
     "data": {
      "text/plain": [
       "<langgraph.graph.state.StateGraph at 0x78234b5ef710>"
      ]
     },
     "execution_count": 16,
     "metadata": {},
     "output_type": "execute_result"
    }
   ],
   "source": [
    "from typing import Literal\n",
    "\n",
    "\n",
    "def route_tools(\n",
    "    state: State,\n",
    ") -> Literal[\"tools\", \"__end__\"]:\n",
    "    \"\"\"\n",
    "    Use in the conditional_edge to route to the ToolNode if the last message\n",
    "    has tool calls. Otherwise, route to the end.\n",
    "    \"\"\"\n",
    "    if isinstance(state, list):\n",
    "        ai_message = state[-1]\n",
    "    elif messages := state.get(\"messages\", []):\n",
    "        ai_message = messages[-1]\n",
    "    else:\n",
    "        raise ValueError(f\"No messages found in input state to tool_edge: {state}\")\n",
    "    if hasattr(ai_message, \"tool_calls\") and len(ai_message.tool_calls) > 0:\n",
    "        return \"tools\"\n",
    "    return \"__end__\"\n",
    "\n",
    "\n",
    "# The `tools_condition` function returns \"tools\" if the chatbot asks to use a tool, and \"__end__\" if\n",
    "# it is fine directly responding. This conditional routing defines the main agent loop.\n",
    "graph_builder.add_conditional_edges(\n",
    "    \"chatbot\",\n",
    "    route_tools,\n",
    "    # The following dictionary lets you tell the graph to interpret the condition's outputs as a specific node\n",
    "    # It defaults to the identity function, but if you\n",
    "    # want to use a node named something else apart from \"tools\",\n",
    "    # You can update the value of the dictionary to something else\n",
    "    # e.g., \"tools\": \"my_tools\"\n",
    "    {\"tools\": \"tools\", \"__end__\": \"__end__\"},\n",
    ")\n",
    "# Any time a tool is called, we return to the chatbot to decide the next step\n",
    "graph_builder.add_edge(\"tools\", \"chatbot\")\n",
    "graph_builder.add_edge(START, \"chatbot\")"
   ]
  },
  {
   "cell_type": "markdown",
   "metadata": {},
   "source": [
    "**Approach 2**"
   ]
  },
  {
   "cell_type": "code",
   "execution_count": 17,
   "metadata": {},
   "outputs": [],
   "source": [
    "# from langgraph.graph import END, MessagesState\n",
    "# from typing import Literal\n",
    "\n",
    "# # Define the function that determines whether to continue or not\n",
    "# def should_continue(state: MessagesState) -> Literal[\"tools\", END]:\n",
    "#     messages = state['messages']\n",
    "#     last_message = messages[-1]\n",
    "#     # If the LLM makes a tool call, then we route to the \"tools\" node\n",
    "#     if last_message.tool_calls:\n",
    "#         return \"tools\"\n",
    "#     # Otherwise, we stop (reply to the user)\n",
    "#     return END\n",
    "\n",
    "# graph_builder.add_conditional_edges(\n",
    "#     \"chatbot\",\n",
    "#     should_continue,\n",
    "#     [\"tools\", END],\n",
    "# )\n",
    "# # Any time a tool is called, we return to the chatbot to decide the next step\n",
    "# graph_builder.add_edge(\"tools\", \"chatbot\")\n",
    "# graph_builder.add_edge(START, \"chatbot\")"
   ]
  },
  {
   "cell_type": "markdown",
   "metadata": {},
   "source": [
    "### **5. Compile the graph**\n",
    "\n",
    "- In this step, we can add a memory to our graph as well."
   ]
  },
  {
   "cell_type": "code",
   "execution_count": 18,
   "metadata": {},
   "outputs": [],
   "source": [
    "from langgraph.checkpoint.memory import MemorySaver\n",
    "\n",
    "memory = MemorySaver()\n",
    "graph = graph_builder.compile(checkpointer=memory)"
   ]
  },
  {
   "cell_type": "markdown",
   "metadata": {},
   "source": [
    "**5.1 Plot the compiled graph**"
   ]
  },
  {
   "cell_type": "code",
   "execution_count": 19,
   "metadata": {},
   "outputs": [],
   "source": [
    "# from IPython.display import Image, display\n",
    "\n",
    "# try:\n",
    "#     display(Image(graph.get_graph().draw_mermaid_png()))\n",
    "# except Exception:\n",
    "#     # This requires some extra dependencies and is optional\n",
    "#     print(\"didn't generate the image\")\n",
    "\n",
    "# Print the graph structure as text\n",
    "# print(\"Graph Structure:\")\n",
    "# print(graph.get_graph())"
   ]
  },
  {
   "cell_type": "markdown",
   "metadata": {},
   "source": [
    "**Save the graph image**"
   ]
  },
  {
   "cell_type": "code",
   "execution_count": 20,
   "metadata": {},
   "outputs": [],
   "source": [
    "# save = False\n",
    "\n",
    "# if save:\n",
    "#     from PIL import Image as PILImage\n",
    "#     import io\n",
    "#     # Assuming graph.get_graph().draw_mermaid_png() returns PNG binary data\n",
    "#     try:\n",
    "#         # Generate the PNG image from the graph\n",
    "#         png_data = graph.get_graph().draw_mermaid_png()\n",
    "        \n",
    "#         # Convert the binary data into an image\n",
    "#         img = PILImage.open(io.BytesIO(png_data))\n",
    "        \n",
    "#         # Save the image locally with 300 DPI\n",
    "#         img.save('output_image1.png', 'PNG', dpi=(300, 300))\n",
    "        \n",
    "#         print(\"Image saved successfully with 300 DPI.\")\n",
    "#     except Exception as e:\n",
    "#         print(f\"Error: {e}\")"
   ]
  },
  {
   "cell_type": "markdown",
   "metadata": {},
   "source": [
    "### **6. Execute the graph**"
   ]
  },
  {
   "cell_type": "code",
   "execution_count": 21,
   "metadata": {},
   "outputs": [],
   "source": [
    "config = {\"configurable\": {\"thread_id\": \"1\"}}"
   ]
  },
  {
   "cell_type": "markdown",
   "metadata": {},
   "source": [
    "##### **First query**"
   ]
  },
  {
   "cell_type": "markdown",
   "metadata": {},
   "source": [
    "Approach 1: Print all the steps the the system goes through ti get the final output"
   ]
  },
  {
   "cell_type": "code",
   "execution_count": 22,
   "metadata": {},
   "outputs": [
    {
     "name": "stdout",
     "output_type": "stream",
     "text": [
      "================================\u001b[1m Human Message \u001b[0m=================================\n",
      "\n",
      "Hi there! My name is Zubair.\n"
     ]
    },
    {
     "name": "stderr",
     "output_type": "stream",
     "text": [
      "ERROR:asyncio:Unclosed client session\n",
      "client_session: <aiohttp.client.ClientSession object at 0x782349345cd0>\n"
     ]
    },
    {
     "name": "stdout",
     "output_type": "stream",
     "text": [
      "==================================\u001b[1m Ai Message \u001b[0m==================================\n",
      "\n",
      "<think>\n",
      "Okay, the user said, \"Hi there! My name is Zubair.\" Let me think about how to respond.\n",
      "\n",
      "First, I should acknowledge their greeting. A simple \"Hello\" or \"Hi\" would work. Then, maybe ask how I can assist them. Since they mentioned their name, maybe include that in the response to be friendly. \n",
      "\n",
      "Wait, but do I need to use any tools here? The functions provided are for looking up policies, querying a database, or searching the web. The user hasn't asked a question that requires any of those tools yet. They're just introducing themselves. \n",
      "\n",
      "So, no function calls are needed at this point. Just a polite response. I'll go with something like, \"Hello Zubair! How can I assist you today?\" That's friendly and opens the door for them to ask questions. \n",
      "\n",
      "I should make sure not to use any markdown and keep it natural. Alright, that should do it.\n",
      "</think>\n",
      "\n",
      "Hello Zubair! How can I assist you today?\n"
     ]
    }
   ],
   "source": [
    "user_input = \"Hi there! My name is Zubair.\"\n",
    "\n",
    "# The config is the **second positional argument** to stream() or invoke()!\n",
    "\n",
    "events = graph.stream(\n",
    "    {\"messages\": [{\"role\": \"user\", \"content\": user_input}]}, config, stream_mode=\"values\"\n",
    ")\n",
    "for event in events:\n",
    "    event[\"messages\"][-1].pretty_print()"
   ]
  },
  {
   "cell_type": "markdown",
   "metadata": {},
   "source": [
    "Approach 2: Just print the final output"
   ]
  },
  {
   "cell_type": "code",
   "execution_count": 23,
   "metadata": {},
   "outputs": [
    {
     "name": "stderr",
     "output_type": "stream",
     "text": [
      "ERROR:asyncio:Unclosed client session\n",
      "client_session: <aiohttp.client.ClientSession object at 0x782349345cd0>\n"
     ]
    },
    {
     "data": {
      "text/plain": [
       "'<think>\\nOkay, the user said \"Hi there! My name is Zubair.\" again. They might just be testing or trying to get a response. I should acknowledge their name again and ask how I can help. Let me make sure to keep it friendly and open-ended. Maybe they have a specific request but aren\\'t sure how to phrase it. I\\'ll stay welcoming and ready to assist.\\n</think>\\n\\nHello Zubair! How can I assist you today? 😊'"
      ]
     },
     "execution_count": 23,
     "metadata": {},
     "output_type": "execute_result"
    }
   ],
   "source": [
    "from langchain_core.messages import HumanMessage\n",
    "user_input = \"Hi there! My name is Zubair.\"\n",
    "\n",
    "# Use the Runnable\n",
    "final_state = graph.invoke(\n",
    "    {\"messages\": [HumanMessage(content=user_input)]},\n",
    "    config=config\n",
    ")\n",
    "final_state[\"messages\"][-1].content"
   ]
  },
  {
   "cell_type": "markdown",
   "metadata": {},
   "source": [
    "#### **Second query**"
   ]
  },
  {
   "cell_type": "code",
   "execution_count": 24,
   "metadata": {},
   "outputs": [
    {
     "name": "stdout",
     "output_type": "stream",
     "text": [
      "================================\u001b[1m Human Message \u001b[0m=================================\n",
      "\n",
      "Can I cancel my ticket 10 hours before the flight?\n"
     ]
    },
    {
     "name": "stderr",
     "output_type": "stream",
     "text": [
      "ERROR:asyncio:Unclosed client session\n",
      "client_session: <aiohttp.client.ClientSession object at 0x7823411aeab0>\n"
     ]
    },
    {
     "name": "stdout",
     "output_type": "stream",
     "text": [
      "==================================\u001b[1m Ai Message \u001b[0m==================================\n",
      "\n",
      "<think>\n",
      "Okay, the user is asking if they can cancel their ticket 10 hours before the flight. I need to check the company's policies regarding ticket cancellations. The available tools include lookup_policy, which is designed to consult company policies. So, I should call the lookup_policy function with the query \"Can I cancel my ticket 10 hours before the flight?\" That should retrieve the relevant policy information. I don't think I need to use the other tools like query_sqldb or search_tool here because the question is about policy, not database data or web search. Let me make sure the parameters are correct. The function requires a \"query\" parameter, which I have. Alright, time to make the tool call.\n",
      "</think>\n",
      "Tool Calls:\n",
      "  lookup_policy (call_SbhixNVhChOjNKcV2jb3owNf)\n",
      " Call ID: call_SbhixNVhChOjNKcV2jb3owNf\n",
      "  Args:\n",
      "    query: Can I cancel my ticket 10 hours before the flight?\n",
      "=================================\u001b[1m Tool Message \u001b[0m=================================\n",
      "Name: lookup_policy\n",
      "\n",
      "\"hour cancellation policy that allows passengers to cancel their flights within 24 hours of booking at +1-877-507-7341\\nwithout penalty. This policy applies to all fare types, including non-refundable tickets. If you cancel your Swiss Airlines\\nflight within 24 hours of booking, you'll receive a full refund of your ticket price.\\nHow to Cancel Swiss Airlines Flight within 24 Hours? If you need to cancel your Swiss Airlines flight within 24 hours of\\nbooking, you can do so easily online. Here are the steps to follow:\\nGo to Swiss Airlines' website and click on the \\\"Manage your bookings\\\" tab. Enter your booking reference number and last\\nname to access your booking. Select the flight you want to cancel and click on \\\"Cancel flight.\\\" Confirm your cancellation\\nand you'll receive a full refund of your ticket price. If you booked your Swiss Airlines flight through a travel agent, you'll\\nneed to contact them directly to cancel your flight within 24 hours.\\nImportant Things to Keep in Mind for Swiss Airlines 24 Hour Cancellation Here are some important things to keep in mind\\nwhen cancelling your Swiss Airlines flight within 24 hours:\\nSwiss Airlines' 24 hour cancellation policy only applies to flights booked directly through Swiss Airlines. If you booked\\nyour flight through a travel agent or third-party website, you'll need to check their cancellation policy. If you cancel your\\nSwiss Airlines flight after the 24 hour window, you may be subject to cancellation fees or penalties. If you have a non-\\nrefundable ticket and cancel your flight within 24 hours of booking, you'll receive a full refund of your ticket price.\\n\\nInvoice Questions\\n1. Can I receive an invoice for my booked flight?\\nYes, we can send you a new booking confirmation free of charge for up to 100 days after the ticket/document has been\\ncompletely used. A fee of CHF 30.00 per transaction (maximum of five E-ticket confirmations) will be charged after these\\n100 days. The E-ticket can be used for invoicing purposes.\\n2. Do I need to reconfirm my flight?\\nNo, reconfirmation of SWISS flights is not required.\\n3. Can I check for availability and fares without booking a flight?\\nYes, you can check flight availability and fares without finalizing a booking. The payment is only done in a last step, after\\nentering your personal data.\\n4. What are the flight tariff categories?\\nThe letters B,E,G,H,K,L,M,Q,S,T,U,V,W,Y (Economy Class), C,D,J,P,Z (Business Class), and A,F (First Class) are used\\nto indicate the different price categories in the different service classes.\\n5. Where can I find the fare conditions for my booked tickets?\\nThe fare conditions for your booked tickets will be shown to you during the booking process. Please note that the tariff\\nconditions are in English and can be found during the booking process.\\n6. Why are my first and middle name sometimes spelled together without a space?\\nBooking and Cancellation\\n1. How can I change my booking?\\nThe ticket number must start with 724 (SWISS ticket no./plate).\"\n"
     ]
    },
    {
     "name": "stderr",
     "output_type": "stream",
     "text": [
      "ERROR:asyncio:Unclosed client session\n",
      "client_session: <aiohttp.client.ClientSession object at 0x7823205781d0>\n"
     ]
    },
    {
     "name": "stdout",
     "output_type": "stream",
     "text": [
      "==================================\u001b[1m Ai Message \u001b[0m==================================\n",
      "\n",
      "<think>\n",
      "Okay, let me process the information from the tool response. The user asked if they can cancel their ticket 10 hours before the flight. The tool response mentions a 24-hour cancellation policy without penalty, but the user is asking about 10 hours. The key point here is that the policy allows cancellation within 24 hours of booking, not necessarily 10 hours before the flight. Wait, the response says \"within 24 hours of booking,\" which might be different from 10 hours before departure. The user might be confused between the time since booking versus time before the flight. I need to clarify that the 24-hour window is from when the ticket was purchased, not the departure time. So if they booked the ticket 10 hours before the flight, they might still be within the 24-hour window. But if the 10 hours is before the flight, but the booking was done more than 24 hours ago, then it might not apply. The answer should explain the 24-hour rule from booking and ask for more details if needed. Also, mention the steps to cancel and the refund policy. Make sure to keep it clear and helpful.\n",
      "</think>\n",
      "\n",
      "Swiss Airlines allows cancellations **within 24 hours of booking** without penalty, provided the ticket number starts with \"724\" (SWISS ticket/plate). This policy applies to all fare types, including non-refundable tickets, and entitles you to a full refund of the ticket price.\n",
      "\n",
      "However, your question specifies **10 hours before the flight**. If the 10-hour window falls within the 24-hour booking period, cancellation is permitted. If the booking was made more than 24 hours ago, standard cancellation fees may apply.\n",
      "\n",
      "### Steps to Cancel:\n",
      "1. Visit [Swiss Airlines' website](https://www.swiss.com) and click **\"Manage your bookings.\"**\n",
      "2. Enter your booking reference and last name.\n",
      "3. Select the flight to cancel and confirm the cancellation.\n",
      "4. You’ll receive a full refund if within the 24-hour window.\n",
      "\n",
      "If you need further assistance, contact Swiss Airlines directly at +1-877-507-7341. Let me know if you need help with anything else! 😊\n"
     ]
    }
   ],
   "source": [
    "user_input = \"Can I cancel my ticket 10 hours before the flight?\"\n",
    "\n",
    "events = graph.stream(\n",
    "    {\"messages\": [{\"role\": \"user\", \"content\": user_input}]}, config, stream_mode=\"values\"\n",
    ")\n",
    "for event in events:\n",
    "    event[\"messages\"][-1].pretty_print()"
   ]
  },
  {
   "cell_type": "markdown",
   "metadata": {},
   "source": [
    "#### **Third query**"
   ]
  },
  {
   "cell_type": "code",
   "execution_count": 25,
   "metadata": {},
   "outputs": [
    {
     "name": "stdout",
     "output_type": "stream",
     "text": [
      "================================\u001b[1m Human Message \u001b[0m=================================\n",
      "\n",
      "Right now Harris vs. Trump Presidential Debate is being boradcasted. I want the youtube link to this debate\n"
     ]
    },
    {
     "name": "stderr",
     "output_type": "stream",
     "text": [
      "ERROR:asyncio:Unclosed client session\n",
      "client_session: <aiohttp.client.ClientSession object at 0x78232057ab40>\n"
     ]
    },
    {
     "name": "stdout",
     "output_type": "stream",
     "text": [
      "==================================\u001b[1m Ai Message \u001b[0m==================================\n",
      "\n",
      "<think>\n",
      "Okay, the user is asking for a YouTube link to the current Harris vs. Trump presidential debate. Let me think about how to handle this.\n",
      "\n",
      "First, I need to check if I have a function that can search for YouTube videos. The available tools are lookup_policy, query_sqldb, and search_tool. The search_tool uses Tavily to search the web. So, I can use search_tool to find the YouTube link.\n",
      "\n",
      "But wait, the user might be expecting a direct link. However, since I can't browse the internet in real-time, I need to use the search_tool to get the latest information. Let me structure the query properly. The user is asking for the YouTube link, so the search query should be something like \"Harris vs. Trump debate YouTube live stream\" or similar.\n",
      "\n",
      "I should call the search_tool with that query. Once I get the results, I can extract the link from the search results. But I need to make sure the link is accurate and from a reliable source. However, since the user is asking for a link, I should present the most relevant result from the search.\n",
      "\n",
      "Alternatively, maybe the user is referring to a specific event, but since the tools don't have real-time data, relying on the search_tool is the best approach. Let me proceed with that.\n",
      "</think>\n",
      "Tool Calls:\n",
      "  search_tool (call_Qv0ajg1KGLbSlMw4BTdMUc6k)\n",
      " Call ID: call_Qv0ajg1KGLbSlMw4BTdMUc6k\n",
      "  Args:\n",
      "    query: Harris vs. Trump presidential debate YouTube live stream\n",
      "=================================\u001b[1m Tool Message \u001b[0m=================================\n",
      "Name: search_tool\n",
      "\n",
      "\"Kamala Harris vs. Donald Trump Full Presidential Debate - YouTube\\nhttps://www.youtube.com/watch?v=lAH6KUOiSB8\\nJoin us for a comprehensive recap of the intense presidential debate between Vice President Kamala Harris and former President Donald Trump, held on September 10. As the November 5 election approaches, this debate highlighted the key issues and fiery exchanges that defined the candidates' platforms. From foreign policy to domestic challenges, watch the most significant moments of the night as both contenders laid out their visions for America. Don\\u2019t miss this opportunity to catch up on the [...] ~PR.152~HT.334~\\n----------------------------------------------------------------------------------------------------------\\nWelcome to OneIndia. Catch the latest news and updates here, from India and the world. Our team ensures a wide-spectrum coverage. From the corridors of power to the thrill of sports. From engaging live shows, to hosting insightful guests. A dash of entertainment and a dollop of Trendy Tales. \\n\\nStay connected, Stay informed with OneIndia.\\n\\nYoutube: \\n\\nLike us on Facebook: [...] #HarrisVsTrump #USElection2024 #PresidentialDebate #Election2024 #DebateHighlights #KamalaHarris #DonaldTrump #PoliticalShowdown #Vote2024 #ElectionRecap #Campaign2024 #DebateNight #PoliticalDebate #AmericanPolitics #VoterEngagement\\n\\n#oneindianews #oneindiaenglish #breakingnews\\n#worldnews #englishnewslive #englishnews #latestnews #news\\n\\nABC Presidential Debate Simulcast - YouTube\\nhttps://www.youtube.com/watch?v=MAm5OCgZ6so\\ndebate the first and potentially only matchup between vice president kamla Harris and former president Donald Trump both candidates having accepted their party's nominations at the conventions earlier this summer meet tonight on the debate stage for the first time in Philadelphia in the same city where the Constitution was written 235 years ago tonight's debate is at the national Constitution Center hosted by ABC and simal casted here on C-Span before the debate de begins tonight we of course [...] ABC Presidential Debate Simulcast\\nC-SPAN\\n1620000 subscribers\\n16895 likes\\n1471826 views\\n10 Sep 2024\\nVice President Kamala Harris and former President Donald Trump participate in the second general election presidential debate of the 2024 cycle, hosted by ABC.  David Muir and Linsey Davis serving as moderators. Debate starts at 01:00:41. \\n\\nDownload the FREE C-SPAN Now App. [...] let's now welcome the candidates to the stage vice president k Harris and president Donald Trump KLA Harris Let's Have a good debate see you have fun thank Youk you welcome to you both it's wonderful to have you it's an honor to have you both here tonight good evening we are looking forward to a spirited and thoughtful debate so let's get started I want to begin tonight with the issue that voters repeatedly say is their number one issue and that is the economy and the cost of living in this\"\n"
     ]
    },
    {
     "name": "stderr",
     "output_type": "stream",
     "text": [
      "ERROR:asyncio:Unclosed client session\n",
      "client_session: <aiohttp.client.ClientSession object at 0x78232057a4b0>\n"
     ]
    },
    {
     "name": "stdout",
     "output_type": "stream",
     "text": [
      "==================================\u001b[1m Ai Message \u001b[0m==================================\n",
      "\n",
      "<think>\n",
      "Okay, the user asked for the YouTube link to the Harris vs. Trump debate. I used the search_tool to find it. The first result has a link: https://www.youtube.com/watch?v=lAH6KUOiSB8. But I should check if that's the correct one. The title mentions a recap of the debate from September 10, which might be the latest one. The second result is from C-SPAN, but it's a simulcast link. However, the user specifically asked for a YouTube link, so the first result is more relevant. I should present that link and mention that it's a recap. Also, note that the debate might be available on other platforms like C-SPAN. Make sure to inform the user about the link and possible alternatives.\n",
      "</think>\n",
      "\n",
      "Here's the YouTube link to the **Harris vs. Trump presidential debate recap** (as of the latest available search results):\n",
      "\n",
      "🔗 [Watch the Debate Recap on YouTube](https://www.youtube.com/watch?v=lAH6KUOiSB8)\n",
      "\n",
      "### Notes:\n",
      "- This link directs to a **recap video** of the debate. For live streaming, platforms like **C-SPAN** or **ABC** (host of the debate) might offer real-time coverage. \n",
      "- If the above link isn't live, try searching \"Harris vs. Trump debate 2024\" on YouTube directly for the latest stream.\n",
      "\n",
      "Let me know if you need further assistance! 🇺🇸\n"
     ]
    }
   ],
   "source": [
    "user_input = \"Right now Harris vs. Trump Presidential Debate is being boradcasted. I want the youtube link to this debate\"\n",
    "\n",
    "events = graph.stream(\n",
    "    {\"messages\": [{\"role\": \"user\", \"content\": user_input}]}, config, stream_mode=\"values\"\n",
    ")\n",
    "for event in events:\n",
    "    event[\"messages\"][-1].pretty_print()"
   ]
  },
  {
   "cell_type": "markdown",
   "metadata": {},
   "source": [
    "#### **Fourth query**"
   ]
  },
  {
   "cell_type": "code",
   "execution_count": 26,
   "metadata": {},
   "outputs": [
    {
     "name": "stdout",
     "output_type": "stream",
     "text": [
      "================================\u001b[1m Human Message \u001b[0m=================================\n",
      "\n",
      "How many tables do I have in the database? and what are their names?\n"
     ]
    },
    {
     "name": "stderr",
     "output_type": "stream",
     "text": [
      "ERROR:asyncio:Unclosed client session\n",
      "client_session: <aiohttp.client.ClientSession object at 0x78232057ae40>\n"
     ]
    },
    {
     "name": "stdout",
     "output_type": "stream",
     "text": [
      "==================================\u001b[1m Ai Message \u001b[0m==================================\n",
      "\n",
      "<think>\n",
      "Okay, the user is asking how many tables are in the database and what their names are. Let me check the tools available.\n",
      "\n",
      "Looking at the tools provided, there's the `query_sqldb` function which allows querying the Swiss Airline SQL Database. The description says it can access all the company's information. So, to get the number of tables and their names, I should use this function.\n",
      "\n",
      "But wait, the user didn't specify any particular database schema or table structure. The tools don't include a function to list all tables directly. However, the `query_sqldb` might be able to run a query that retrieves table information. For example, in SQL, you can query the information_schema.tables to get table names and count them.\n",
      "\n",
      "So, I need to construct a query that selects the count of tables and their names. The exact SQL syntax might depend on the database system, but since it's a generic SQL database, using `information_schema.tables` is a safe bet.\n",
      "\n",
      "The user's question is straightforward, but the tools don't have a specific function for listing tables. Therefore, using `query_sqldb` with a query to retrieve table information is the way to go. I'll format the tool call with the appropriate SQL query.\n",
      "</think>\n",
      "Tool Calls:\n",
      "  query_sqldb (call_vOcdvcBH9MW8XnKXO9tFDkLQ)\n",
      " Call ID: call_vOcdvcBH9MW8XnKXO9tFDkLQ\n",
      "  Args:\n",
      "    query: SELECT COUNT(*) AS table_count, GROUP_CONCAT(TABLE_NAME) AS table_names FROM information_schema.tables WHERE table_schema = 'your_database_name';\n",
      "=================================\u001b[1m Tool Message \u001b[0m=================================\n",
      "Name: query_sqldb\n",
      "\n",
      "\"There are 11 tables in the database. The table names are: aircrafts_data, airports_data, boarding_passes, bookings, flights, seats, ticket_flights, tickets, car_rentals, hotels, and trip_recommendations.\"\n"
     ]
    },
    {
     "name": "stderr",
     "output_type": "stream",
     "text": [
      "ERROR:asyncio:Unclosed client session\n",
      "client_session: <aiohttp.client.ClientSession object at 0x78232061fbc0>\n"
     ]
    },
    {
     "name": "stdout",
     "output_type": "stream",
     "text": [
      "==================================\u001b[1m Ai Message \u001b[0m==================================\n",
      "\n",
      "<think>\n",
      "Okay, the user asked how many tables are in the database and their names. I used the `query_sqldb` tool with a SQL query to fetch the table information. The response from the tool listed 11 tables with their names.\n",
      "\n",
      "Now, I need to present this information clearly. Let me check if the response includes all the tables correctly. The list is: aircrafts_data, airports_data, boarding_passes, bookings, flights, seats, ticket_flights, tickets, car_rentals, hotels, and trip_recommendations. That's 11 tables. \n",
      "\n",
      "I should confirm the count and list them out in a user-friendly way. Also, maybe offer further assistance in case they need more details about specific tables. Keep the answer concise and helpful.\n",
      "</think>\n",
      "\n",
      "The database contains **11 tables** with the following names:  \n",
      "1. `aircrafts_data`  \n",
      "2. `airports_data`  \n",
      "3. `boarding_passes`  \n",
      "4. `bookings`  \n",
      "5. `flights`  \n",
      "6. `seats`  \n",
      "7. `ticket_flights`  \n",
      "8. `tickets`  \n",
      "9. `car_rentals`  \n",
      "10. `hotels`  \n",
      "11. `trip_recommendations`  \n",
      "\n",
      "Let me know if you need details about any specific table! ✅\n"
     ]
    }
   ],
   "source": [
    "user_input = \"How many tables do I have in the database? and what are their names?\"\n",
    "events = graph.stream(\n",
    "    {\"messages\": [{\"role\": \"user\", \"content\": user_input}]}, config, stream_mode=\"values\"\n",
    ")\n",
    "for event in events:\n",
    "    event[\"messages\"][-1].pretty_print()"
   ]
  },
  {
   "cell_type": "markdown",
   "metadata": {},
   "source": [
    "#### **History**"
   ]
  },
  {
   "cell_type": "code",
   "execution_count": 27,
   "metadata": {},
   "outputs": [
    {
     "data": {
      "text/plain": [
       "{'messages': [HumanMessage(content='Hi there! My name is Zubair.', additional_kwargs={}, response_metadata={}, id='01c7ecc5-4af9-4651-a035-e6d6fb72e72c'),\n",
       "  AIMessage(content='<think>\\nOkay, the user said, \"Hi there! My name is Zubair.\" Let me think about how to respond.\\n\\nFirst, I should acknowledge their greeting. A simple \"Hello\" or \"Hi\" would work. Then, maybe ask how I can assist them. Since they mentioned their name, maybe include that in the response to be friendly. \\n\\nWait, but do I need to use any tools here? The functions provided are for looking up policies, querying a database, or searching the web. The user hasn\\'t asked a question that requires any of those tools yet. They\\'re just introducing themselves. \\n\\nSo, no function calls are needed at this point. Just a polite response. I\\'ll go with something like, \"Hello Zubair! How can I assist you today?\" That\\'s friendly and opens the door for them to ask questions. \\n\\nI should make sure not to use any markdown and keep it natural. Alright, that should do it.\\n</think>\\n\\nHello Zubair! How can I assist you today?', additional_kwargs={}, response_metadata={}, id='93a442f7-2d6b-48b4-8815-a145f73f95f5'),\n",
       "  HumanMessage(content='Hi there! My name is Zubair.', additional_kwargs={}, response_metadata={}, id='ee6c2031-dfba-4360-9716-d5e5c884ae92'),\n",
       "  AIMessage(content='<think>\\nOkay, the user said \"Hi there! My name is Zubair.\" again. They might just be testing or trying to get a response. I should acknowledge their name again and ask how I can help. Let me make sure to keep it friendly and open-ended. Maybe they have a specific request but aren\\'t sure how to phrase it. I\\'ll stay welcoming and ready to assist.\\n</think>\\n\\nHello Zubair! How can I assist you today? 😊', additional_kwargs={}, response_metadata={}, id='d047d592-b055-49c5-b4f5-7f74fe0ddfdc'),\n",
       "  HumanMessage(content='Can I cancel my ticket 10 hours before the flight?', additional_kwargs={}, response_metadata={}, id='a9bc94eb-91a3-4f63-8888-907b16323e32'),\n",
       "  AIMessage(content='<think>\\nOkay, the user is asking if they can cancel their ticket 10 hours before the flight. I need to check the company\\'s policies regarding ticket cancellations. The available tools include lookup_policy, which is designed to consult company policies. So, I should call the lookup_policy function with the query \"Can I cancel my ticket 10 hours before the flight?\" That should retrieve the relevant policy information. I don\\'t think I need to use the other tools like query_sqldb or search_tool here because the question is about policy, not database data or web search. Let me make sure the parameters are correct. The function requires a \"query\" parameter, which I have. Alright, time to make the tool call.\\n</think>\\n\\n', additional_kwargs={}, response_metadata={}, id='fa350f3b-15b5-47b6-998e-abff5212e216', tool_calls=[{'name': 'lookup_policy', 'args': {'query': 'Can I cancel my ticket 10 hours before the flight?'}, 'id': 'call_SbhixNVhChOjNKcV2jb3owNf', 'type': 'tool_call'}]),\n",
       "  ToolMessage(content='\"hour cancellation policy that allows passengers to cancel their flights within 24 hours of booking at +1-877-507-7341\\\\nwithout penalty. This policy applies to all fare types, including non-refundable tickets. If you cancel your Swiss Airlines\\\\nflight within 24 hours of booking, you\\'ll receive a full refund of your ticket price.\\\\nHow to Cancel Swiss Airlines Flight within 24 Hours? If you need to cancel your Swiss Airlines flight within 24 hours of\\\\nbooking, you can do so easily online. Here are the steps to follow:\\\\nGo to Swiss Airlines\\' website and click on the \\\\\"Manage your bookings\\\\\" tab. Enter your booking reference number and last\\\\nname to access your booking. Select the flight you want to cancel and click on \\\\\"Cancel flight.\\\\\" Confirm your cancellation\\\\nand you\\'ll receive a full refund of your ticket price. If you booked your Swiss Airlines flight through a travel agent, you\\'ll\\\\nneed to contact them directly to cancel your flight within 24 hours.\\\\nImportant Things to Keep in Mind for Swiss Airlines 24 Hour Cancellation Here are some important things to keep in mind\\\\nwhen cancelling your Swiss Airlines flight within 24 hours:\\\\nSwiss Airlines\\' 24 hour cancellation policy only applies to flights booked directly through Swiss Airlines. If you booked\\\\nyour flight through a travel agent or third-party website, you\\'ll need to check their cancellation policy. If you cancel your\\\\nSwiss Airlines flight after the 24 hour window, you may be subject to cancellation fees or penalties. If you have a non-\\\\nrefundable ticket and cancel your flight within 24 hours of booking, you\\'ll receive a full refund of your ticket price.\\\\n\\\\nInvoice Questions\\\\n1. Can I receive an invoice for my booked flight?\\\\nYes, we can send you a new booking confirmation free of charge for up to 100 days after the ticket/document has been\\\\ncompletely used. A fee of CHF 30.00 per transaction (maximum of five E-ticket confirmations) will be charged after these\\\\n100 days. The E-ticket can be used for invoicing purposes.\\\\n2. Do I need to reconfirm my flight?\\\\nNo, reconfirmation of SWISS flights is not required.\\\\n3. Can I check for availability and fares without booking a flight?\\\\nYes, you can check flight availability and fares without finalizing a booking. The payment is only done in a last step, after\\\\nentering your personal data.\\\\n4. What are the flight tariff categories?\\\\nThe letters B,E,G,H,K,L,M,Q,S,T,U,V,W,Y (Economy Class), C,D,J,P,Z (Business Class), and A,F (First Class) are used\\\\nto indicate the different price categories in the different service classes.\\\\n5. Where can I find the fare conditions for my booked tickets?\\\\nThe fare conditions for your booked tickets will be shown to you during the booking process. Please note that the tariff\\\\nconditions are in English and can be found during the booking process.\\\\n6. Why are my first and middle name sometimes spelled together without a space?\\\\nBooking and Cancellation\\\\n1. How can I change my booking?\\\\nThe ticket number must start with 724 (SWISS ticket no./plate).\"', name='lookup_policy', id='4bf00311-9934-4d3c-9b30-1f7c6f0ad5ec', tool_call_id='call_SbhixNVhChOjNKcV2jb3owNf'),\n",
       "  AIMessage(content='<think>\\nOkay, let me process the information from the tool response. The user asked if they can cancel their ticket 10 hours before the flight. The tool response mentions a 24-hour cancellation policy without penalty, but the user is asking about 10 hours. The key point here is that the policy allows cancellation within 24 hours of booking, not necessarily 10 hours before the flight. Wait, the response says \"within 24 hours of booking,\" which might be different from 10 hours before departure. The user might be confused between the time since booking versus time before the flight. I need to clarify that the 24-hour window is from when the ticket was purchased, not the departure time. So if they booked the ticket 10 hours before the flight, they might still be within the 24-hour window. But if the 10 hours is before the flight, but the booking was done more than 24 hours ago, then it might not apply. The answer should explain the 24-hour rule from booking and ask for more details if needed. Also, mention the steps to cancel and the refund policy. Make sure to keep it clear and helpful.\\n</think>\\n\\nSwiss Airlines allows cancellations **within 24 hours of booking** without penalty, provided the ticket number starts with \"724\" (SWISS ticket/plate). This policy applies to all fare types, including non-refundable tickets, and entitles you to a full refund of the ticket price.\\n\\nHowever, your question specifies **10 hours before the flight**. If the 10-hour window falls within the 24-hour booking period, cancellation is permitted. If the booking was made more than 24 hours ago, standard cancellation fees may apply.\\n\\n### Steps to Cancel:\\n1. Visit [Swiss Airlines\\' website](https://www.swiss.com) and click **\"Manage your bookings.\"**\\n2. Enter your booking reference and last name.\\n3. Select the flight to cancel and confirm the cancellation.\\n4. You’ll receive a full refund if within the 24-hour window.\\n\\nIf you need further assistance, contact Swiss Airlines directly at +1-877-507-7341. Let me know if you need help with anything else! 😊', additional_kwargs={}, response_metadata={}, id='fe89988b-89cf-438c-a7c7-f95e8fe9cebe'),\n",
       "  HumanMessage(content='Right now Harris vs. Trump Presidential Debate is being boradcasted. I want the youtube link to this debate', additional_kwargs={}, response_metadata={}, id='a1376244-1c7b-4685-91df-4e0b20555122'),\n",
       "  AIMessage(content='<think>\\nOkay, the user is asking for a YouTube link to the current Harris vs. Trump presidential debate. Let me think about how to handle this.\\n\\nFirst, I need to check if I have a function that can search for YouTube videos. The available tools are lookup_policy, query_sqldb, and search_tool. The search_tool uses Tavily to search the web. So, I can use search_tool to find the YouTube link.\\n\\nBut wait, the user might be expecting a direct link. However, since I can\\'t browse the internet in real-time, I need to use the search_tool to get the latest information. Let me structure the query properly. The user is asking for the YouTube link, so the search query should be something like \"Harris vs. Trump debate YouTube live stream\" or similar.\\n\\nI should call the search_tool with that query. Once I get the results, I can extract the link from the search results. But I need to make sure the link is accurate and from a reliable source. However, since the user is asking for a link, I should present the most relevant result from the search.\\n\\nAlternatively, maybe the user is referring to a specific event, but since the tools don\\'t have real-time data, relying on the search_tool is the best approach. Let me proceed with that.\\n</think>\\n\\n', additional_kwargs={}, response_metadata={}, id='4a82c2fd-cb6a-42c0-8e56-3a16a58e0abf', tool_calls=[{'name': 'search_tool', 'args': {'query': 'Harris vs. Trump presidential debate YouTube live stream'}, 'id': 'call_Qv0ajg1KGLbSlMw4BTdMUc6k', 'type': 'tool_call'}]),\n",
       "  ToolMessage(content='\"Kamala Harris vs. Donald Trump Full Presidential Debate - YouTube\\\\nhttps://www.youtube.com/watch?v=lAH6KUOiSB8\\\\nJoin us for a comprehensive recap of the intense presidential debate between Vice President Kamala Harris and former President Donald Trump, held on September 10. As the November 5 election approaches, this debate highlighted the key issues and fiery exchanges that defined the candidates\\' platforms. From foreign policy to domestic challenges, watch the most significant moments of the night as both contenders laid out their visions for America. Don\\\\u2019t miss this opportunity to catch up on the [...] ~PR.152~HT.334~\\\\n----------------------------------------------------------------------------------------------------------\\\\nWelcome to OneIndia. Catch the latest news and updates here, from India and the world. Our team ensures a wide-spectrum coverage. From the corridors of power to the thrill of sports. From engaging live shows, to hosting insightful guests. A dash of entertainment and a dollop of Trendy Tales. \\\\n\\\\nStay connected, Stay informed with OneIndia.\\\\n\\\\nYoutube: \\\\n\\\\nLike us on Facebook: [...] #HarrisVsTrump #USElection2024 #PresidentialDebate #Election2024 #DebateHighlights #KamalaHarris #DonaldTrump #PoliticalShowdown #Vote2024 #ElectionRecap #Campaign2024 #DebateNight #PoliticalDebate #AmericanPolitics #VoterEngagement\\\\n\\\\n#oneindianews #oneindiaenglish #breakingnews\\\\n#worldnews #englishnewslive #englishnews #latestnews #news\\\\n\\\\nABC Presidential Debate Simulcast - YouTube\\\\nhttps://www.youtube.com/watch?v=MAm5OCgZ6so\\\\ndebate the first and potentially only matchup between vice president kamla Harris and former president Donald Trump both candidates having accepted their party\\'s nominations at the conventions earlier this summer meet tonight on the debate stage for the first time in Philadelphia in the same city where the Constitution was written 235 years ago tonight\\'s debate is at the national Constitution Center hosted by ABC and simal casted here on C-Span before the debate de begins tonight we of course [...] ABC Presidential Debate Simulcast\\\\nC-SPAN\\\\n1620000 subscribers\\\\n16895 likes\\\\n1471826 views\\\\n10 Sep 2024\\\\nVice President Kamala Harris and former President Donald Trump participate in the second general election presidential debate of the 2024 cycle, hosted by ABC.  David Muir and Linsey Davis serving as moderators. Debate starts at 01:00:41. \\\\n\\\\nDownload the FREE C-SPAN Now App. [...] let\\'s now welcome the candidates to the stage vice president k Harris and president Donald Trump KLA Harris Let\\'s Have a good debate see you have fun thank Youk you welcome to you both it\\'s wonderful to have you it\\'s an honor to have you both here tonight good evening we are looking forward to a spirited and thoughtful debate so let\\'s get started I want to begin tonight with the issue that voters repeatedly say is their number one issue and that is the economy and the cost of living in this\"', name='search_tool', id='46922df6-0ba5-4e64-b77f-00ad4d2477a0', tool_call_id='call_Qv0ajg1KGLbSlMw4BTdMUc6k'),\n",
       "  AIMessage(content='<think>\\nOkay, the user asked for the YouTube link to the Harris vs. Trump debate. I used the search_tool to find it. The first result has a link: https://www.youtube.com/watch?v=lAH6KUOiSB8. But I should check if that\\'s the correct one. The title mentions a recap of the debate from September 10, which might be the latest one. The second result is from C-SPAN, but it\\'s a simulcast link. However, the user specifically asked for a YouTube link, so the first result is more relevant. I should present that link and mention that it\\'s a recap. Also, note that the debate might be available on other platforms like C-SPAN. Make sure to inform the user about the link and possible alternatives.\\n</think>\\n\\nHere\\'s the YouTube link to the **Harris vs. Trump presidential debate recap** (as of the latest available search results):\\n\\n🔗 [Watch the Debate Recap on YouTube](https://www.youtube.com/watch?v=lAH6KUOiSB8)\\n\\n### Notes:\\n- This link directs to a **recap video** of the debate. For live streaming, platforms like **C-SPAN** or **ABC** (host of the debate) might offer real-time coverage. \\n- If the above link isn\\'t live, try searching \"Harris vs. Trump debate 2024\" on YouTube directly for the latest stream.\\n\\nLet me know if you need further assistance! 🇺🇸', additional_kwargs={}, response_metadata={}, id='3e720027-54e7-451a-87c2-8253a191f0be'),\n",
       "  HumanMessage(content='How many tables do I have in the database? and what are their names?', additional_kwargs={}, response_metadata={}, id='a44c8569-411f-46ab-ac31-88650c9ecba7'),\n",
       "  AIMessage(content=\"<think>\\nOkay, the user is asking how many tables are in the database and what their names are. Let me check the tools available.\\n\\nLooking at the tools provided, there's the `query_sqldb` function which allows querying the Swiss Airline SQL Database. The description says it can access all the company's information. So, to get the number of tables and their names, I should use this function.\\n\\nBut wait, the user didn't specify any particular database schema or table structure. The tools don't include a function to list all tables directly. However, the `query_sqldb` might be able to run a query that retrieves table information. For example, in SQL, you can query the information_schema.tables to get table names and count them.\\n\\nSo, I need to construct a query that selects the count of tables and their names. The exact SQL syntax might depend on the database system, but since it's a generic SQL database, using `information_schema.tables` is a safe bet.\\n\\nThe user's question is straightforward, but the tools don't have a specific function for listing tables. Therefore, using `query_sqldb` with a query to retrieve table information is the way to go. I'll format the tool call with the appropriate SQL query.\\n</think>\\n\\n\", additional_kwargs={}, response_metadata={}, id='cb6aadb1-6f0e-4dcf-8b6e-63a348341886', tool_calls=[{'name': 'query_sqldb', 'args': {'query': \"SELECT COUNT(*) AS table_count, GROUP_CONCAT(TABLE_NAME) AS table_names FROM information_schema.tables WHERE table_schema = 'your_database_name';\"}, 'id': 'call_vOcdvcBH9MW8XnKXO9tFDkLQ', 'type': 'tool_call'}]),\n",
       "  ToolMessage(content='\"There are 11 tables in the database. The table names are: aircrafts_data, airports_data, boarding_passes, bookings, flights, seats, ticket_flights, tickets, car_rentals, hotels, and trip_recommendations.\"', name='query_sqldb', id='e6f7e166-ac65-48b3-943f-0725edfcee3d', tool_call_id='call_vOcdvcBH9MW8XnKXO9tFDkLQ'),\n",
       "  AIMessage(content=\"<think>\\nOkay, the user asked how many tables are in the database and their names. I used the `query_sqldb` tool with a SQL query to fetch the table information. The response from the tool listed 11 tables with their names.\\n\\nNow, I need to present this information clearly. Let me check if the response includes all the tables correctly. The list is: aircrafts_data, airports_data, boarding_passes, bookings, flights, seats, ticket_flights, tickets, car_rentals, hotels, and trip_recommendations. That's 11 tables. \\n\\nI should confirm the count and list them out in a user-friendly way. Also, maybe offer further assistance in case they need more details about specific tables. Keep the answer concise and helpful.\\n</think>\\n\\nThe database contains **11 tables** with the following names:  \\n1. `aircrafts_data`  \\n2. `airports_data`  \\n3. `boarding_passes`  \\n4. `bookings`  \\n5. `flights`  \\n6. `seats`  \\n7. `ticket_flights`  \\n8. `tickets`  \\n9. `car_rentals`  \\n10. `hotels`  \\n11. `trip_recommendations`  \\n\\nLet me know if you need details about any specific table! ✅\", additional_kwargs={}, response_metadata={}, id='ebefcb0b-fcd3-4e8f-b2b6-d1749c0d8600')]}"
      ]
     },
     "execution_count": 27,
     "metadata": {},
     "output_type": "execute_result"
    }
   ],
   "source": [
    "event"
   ]
  }
 ],
 "metadata": {
  "kernelspec": {
   "display_name": "Python 3",
   "language": "python",
   "name": "python3"
  },
  "language_info": {
   "codemirror_mode": {
    "name": "ipython",
    "version": 3
   },
   "file_extension": ".py",
   "mimetype": "text/x-python",
   "name": "python",
   "nbconvert_exporter": "python",
   "pygments_lexer": "ipython3",
   "version": "3.12.3"
  }
 },
 "nbformat": 4,
 "nbformat_minor": 2
}
