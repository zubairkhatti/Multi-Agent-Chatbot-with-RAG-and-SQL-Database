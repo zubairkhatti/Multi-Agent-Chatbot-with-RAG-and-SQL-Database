{
 "cells": [
  {
   "cell_type": "code",
   "execution_count": null,
   "metadata": {},
   "outputs": [
    {
     "data": {
      "text/plain": [
       "True"
      ]
     },
     "execution_count": 1,
     "metadata": {},
     "output_type": "execute_result"
    }
   ],
   "source": [
    "import chromadb\n",
    "import os\n",
    "from pyprojroot import here\n",
    "from google import genai\n",
    "from google.genai import types\n",
    "import spacy\n",
    "from dotenv import load_dotenv\n",
    "from pprint import pprint\n",
    "load_dotenv()"
   ]
  },
  {
   "cell_type": "markdown",
   "metadata": {},
   "source": [
    "**Load environment variables and configs**"
   ]
  },
  {
   "cell_type": "code",
   "execution_count": null,
   "metadata": {},
   "outputs": [],
   "source": [
    "EMBEDDING_MODEL = \"en_core_web_lg\"\n",
    "VECTORDB_DIR = \"data/airline_policy_vectordb\"\n",
    "K=2"
   ]
  },
  {
   "cell_type": "markdown",
   "metadata": {},
   "source": [
    "**Load the vectorDB**"
   ]
  },
  {
   "cell_type": "code",
   "execution_count": null,
   "metadata": {},
   "outputs": [
    {
     "name": "stdout",
     "output_type": "stream",
     "text": [
      "Number of vectors in vectordb: 30 \n",
      "\n",
      "\n"
     ]
    }
   ],
   "source": [
    "client = chromadb.PersistentClient(path=str(here(VECTORDB_DIR)))\n",
    "collection = client.get_or_create_collection(name=\"rag-chroma\")\n",
    "print(\"Number of vectors in vectordb:\", collection.count(), \"\\n\\n\")"
   ]
  },
  {
   "cell_type": "markdown",
   "metadata": {},
   "source": [
    "**Sample Query**"
   ]
  },
  {
   "cell_type": "code",
   "execution_count": 4,
   "metadata": {},
   "outputs": [],
   "source": [
    "message = \"What is the cancelation rule for a flight ticket at swiss airline policy?\""
   ]
  },
  {
   "cell_type": "markdown",
   "metadata": {},
   "source": [
    "**Perform the vector Search**"
   ]
  },
  {
   "cell_type": "code",
   "execution_count": null,
   "metadata": {},
   "outputs": [],
   "source": [
    "nlp = spacy.load(EMBEDDING_MODEL)\n",
    "query_embedding = nlp(message).vector\n",
    "\n",
    "results = collection.query(\n",
    "    query_embeddings=[query_embedding],\n",
    "    n_results=K,\n",
    "    include=[\"documents\", \"metadatas\"]\n",
    ")"
   ]
  },
  {
   "cell_type": "code",
   "execution_count": null,
   "metadata": {},
   "outputs": [
    {
     "data": {
      "text/plain": [
       "{'ids': [['8', '25']],\n",
       " 'embeddings': None,\n",
       " 'documents': [['If you need an invoice for personal or business purposes, most countries accept an e-ticket confirmation as an invoice.\\nFor countries with special requirements, an invoice can be ordered using forms that are available for this purpose.\\nUsing an e-ticket confirmation as an invoice Your e-ticket confirmation is internationally recognised as a receipt in most\\ncountries, including Switzerland, and it can be used for the reimbursement of expenses and for the submission of a tax\\nreturn.\\nYou can order your e-ticket confirmation in your profile under “Bookings” via the link “E-documents (Invoice)” or via the\\nlink “ Passenger Receipt”.\\nOrdering an invoice after your booking If you find out at a later date that you require an invoice, we can send you a new\\nbooking confirmation free of charge up to 90 days after the ticket/document has been completely used. After this 90-day\\nperiod, we charge a fee of CHF 30 for each confirmation (up to a maximum of five e-ticket confirmations).\\nInvoices for Greece, India, Italy or Spain For flights originating in Greece, India, Italy or Spain, we can issue special\\ninvoices on request. You can request an invoice in these countries if the information provided on your e-ticket is not\\ndeemed sufficient.\\nCredit Cards\\nCard Security Number\\nTo make your payments with credit or debit cards online even more secure, we require you to enter the card security\\nnumber for online bookings. This code will check the validity of the credit/debit card information.\\nAmerican Express',\n",
       "   'hour cancellation policy that allows passengers to cancel their flights within 24 hours of booking at +1-877-507-7341\\nwithout penalty. This policy applies to all fare types, including non-refundable tickets. If you cancel your Swiss Airlines\\nflight within 24 hours of booking, you\\'ll receive a full refund of your ticket price.\\nHow to Cancel Swiss Airlines Flight within 24 Hours? If you need to cancel your Swiss Airlines flight within 24 hours of\\nbooking, you can do so easily online. Here are the steps to follow:\\nGo to Swiss Airlines\\' website and click on the \"Manage your bookings\" tab. Enter your booking reference number and last\\nname to access your booking. Select the flight you want to cancel and click on \"Cancel flight.\" Confirm your cancellation\\nand you\\'ll receive a full refund of your ticket price. If you booked your Swiss Airlines flight through a travel agent, you\\'ll\\nneed to contact them directly to cancel your flight within 24 hours.\\nImportant Things to Keep in Mind for Swiss Airlines 24 Hour Cancellation Here are some important things to keep in mind\\nwhen cancelling your Swiss Airlines flight within 24 hours:\\nSwiss Airlines\\' 24 hour cancellation policy only applies to flights booked directly through Swiss Airlines. If you booked\\nyour flight through a travel agent or third-party website, you\\'ll need to check their cancellation policy. If you cancel your\\nSwiss Airlines flight after the 24 hour window, you may be subject to cancellation fees or penalties. If you have a non-\\nrefundable ticket and cancel your flight within 24 hours of booking, you\\'ll receive a full refund of your ticket price.']],\n",
       " 'uris': None,\n",
       " 'included': ['documents', 'metadatas'],\n",
       " 'data': None,\n",
       " 'metadatas': [[None, None]],\n",
       " 'distances': None}"
      ]
     },
     "execution_count": 6,
     "metadata": {},
     "output_type": "execute_result"
    }
   ],
   "source": [
    "results"
   ]
  },
  {
   "cell_type": "markdown",
   "metadata": {},
   "source": [
    "**Prepare the prompt for the LLM model**"
   ]
  },
  {
   "cell_type": "code",
   "execution_count": 7,
   "metadata": {},
   "outputs": [],
   "source": [
    "question = \"# User new question:\\n\" + message\n",
    "retrieved_content = \"\"\n",
    "for doc in results[\"documents\"][0]:\n",
    "    retrieved_content += f\"{doc}\\n\\n\"\n",
    "prompt = f\"# Content:\\n{retrieved_content}\\n\\n{question}\""
   ]
  },
  {
   "cell_type": "markdown",
   "metadata": {},
   "source": [
    "Prepared prompt"
   ]
  },
  {
   "cell_type": "code",
   "execution_count": 8,
   "metadata": {},
   "outputs": [
    {
     "name": "stdout",
     "output_type": "stream",
     "text": [
      "('# Content:\\n'\n",
      " 'If you need an invoice for personal or business purposes, most countries '\n",
      " 'accept an e-ticket confirmation as an invoice.\\n'\n",
      " 'For countries with special requirements, an invoice can be ordered using '\n",
      " 'forms that are available for this purpose.\\n'\n",
      " 'Using an e-ticket confirmation as an invoice Your e-ticket confirmation is '\n",
      " 'internationally recognised as a receipt in most\\n'\n",
      " 'countries, including Switzerland, and it can be used for the reimbursement '\n",
      " 'of expenses and for the submission of a tax\\n'\n",
      " 'return.\\n'\n",
      " 'You can order your e-ticket confirmation in your profile under “Bookings” '\n",
      " 'via the link “E-documents (Invoice)” or via the\\n'\n",
      " 'link “ Passenger Receipt”.\\n'\n",
      " 'Ordering an invoice after your booking If you find out at a later date that '\n",
      " 'you require an invoice, we can send you a new\\n'\n",
      " 'booking confirmation free of charge up to 90 days after the ticket/document '\n",
      " 'has been completely used. After this 90-day\\n'\n",
      " 'period, we charge a fee of CHF 30 for each confirmation (up to a maximum of '\n",
      " 'five e-ticket confirmations).\\n'\n",
      " 'Invoices for Greece, India, Italy or Spain For flights originating in '\n",
      " 'Greece, India, Italy or Spain, we can issue special\\n'\n",
      " 'invoices on request. You can request an invoice in these countries if the '\n",
      " 'information provided on your e-ticket is not\\n'\n",
      " 'deemed sufficient.\\n'\n",
      " 'Credit Cards\\n'\n",
      " 'Card Security Number\\n'\n",
      " 'To make your payments with credit or debit cards online even more secure, we '\n",
      " 'require you to enter the card security\\n'\n",
      " 'number for online bookings. This code will check the validity of the '\n",
      " 'credit/debit card information.\\n'\n",
      " 'American Express\\n'\n",
      " '\\n'\n",
      " 'hour cancellation policy that allows passengers to cancel their flights '\n",
      " 'within 24 hours of booking at +1-877-507-7341\\n'\n",
      " 'without penalty. This policy applies to all fare types, including '\n",
      " 'non-refundable tickets. If you cancel your Swiss Airlines\\n'\n",
      " \"flight within 24 hours of booking, you'll receive a full refund of your \"\n",
      " 'ticket price.\\n'\n",
      " 'How to Cancel Swiss Airlines Flight within 24 Hours? If you need to cancel '\n",
      " 'your Swiss Airlines flight within 24 hours of\\n'\n",
      " 'booking, you can do so easily online. Here are the steps to follow:\\n'\n",
      " 'Go to Swiss Airlines\\' website and click on the \"Manage your bookings\" tab. '\n",
      " 'Enter your booking reference number and last\\n'\n",
      " 'name to access your booking. Select the flight you want to cancel and click '\n",
      " 'on \"Cancel flight.\" Confirm your cancellation\\n'\n",
      " \"and you'll receive a full refund of your ticket price. If you booked your \"\n",
      " \"Swiss Airlines flight through a travel agent, you'll\\n\"\n",
      " 'need to contact them directly to cancel your flight within 24 hours.\\n'\n",
      " 'Important Things to Keep in Mind for Swiss Airlines 24 Hour Cancellation '\n",
      " 'Here are some important things to keep in mind\\n'\n",
      " 'when cancelling your Swiss Airlines flight within 24 hours:\\n'\n",
      " \"Swiss Airlines' 24 hour cancellation policy only applies to flights booked \"\n",
      " 'directly through Swiss Airlines. If you booked\\n'\n",
      " \"your flight through a travel agent or third-party website, you'll need to \"\n",
      " 'check their cancellation policy. If you cancel your\\n'\n",
      " 'Swiss Airlines flight after the 24 hour window, you may be subject to '\n",
      " 'cancellation fees or penalties. If you have a non-\\n'\n",
      " \"refundable ticket and cancel your flight within 24 hours of booking, you'll \"\n",
      " 'receive a full refund of your ticket price.\\n'\n",
      " '\\n'\n",
      " '\\n'\n",
      " '\\n'\n",
      " '# User new question:\\n'\n",
      " 'What is the cancelation rule for a flight ticket at swiss airline policy?')\n"
     ]
    }
   ],
   "source": [
    "pprint(prompt)"
   ]
  },
  {
   "cell_type": "markdown",
   "metadata": {},
   "source": [
    "**Pass the prompt to the LLM model and get the response**"
   ]
  },
  {
   "cell_type": "code",
   "execution_count": null,
   "metadata": {},
   "outputs": [],
   "source": [
    "client = genai.Client()\n",
    "model = \"gemini-2.5-flash\"\n",
    "response = client.models.generate_content(\n",
    "        model=model,\n",
    "        contents=prompt,\n",
    "        config=types.GenerateContentConfig(\n",
    "            thinking_config=types.ThinkingConfig(thinking_budget=0), # Disables thinking\n",
    "            system_instruction=\"You will receive a user's query and possible content where the answer might be. If the answer is found, provide it, if not, state that the answer does not exist.\"\n",
    "        ),\n",
    "    )"
   ]
  },
  {
   "cell_type": "markdown",
   "metadata": {},
   "source": [
    "Printing the response"
   ]
  },
  {
   "cell_type": "code",
   "execution_count": null,
   "metadata": {},
   "outputs": [
    {
     "name": "stdout",
     "output_type": "stream",
     "text": [
      "('Swiss Airlines has a 24-hour cancellation policy that allows passengers to '\n",
      " 'cancel their flights within 24 hours of booking without penalty. This policy '\n",
      " 'applies to all fare types, including non-refundable tickets. If you cancel '\n",
      " \"your Swiss Airlines flight within 24 hours of booking, you'll receive a full \"\n",
      " 'refund of your ticket price.\\n'\n",
      " '\\n'\n",
      " 'Important things to keep in mind:\\n'\n",
      " '* This policy only applies to flights booked directly through Swiss '\n",
      " 'Airlines. If you booked through a travel agent or third-party website, you '\n",
      " 'need to check their cancellation policy.\\n'\n",
      " '* If you cancel your flight after the 24-hour window, you may be subject to '\n",
      " 'cancellation fees or penalties.')\n"
     ]
    }
   ],
   "source": [
    "pprint(response.text)"
   ]
  },
  {
   "cell_type": "markdown",
   "metadata": {},
   "source": [
    "**RAG Tool design using LangChain**"
   ]
  },
  {
   "cell_type": "code",
   "execution_count": null,
   "metadata": {},
   "outputs": [],
   "source": [
    "from langchain_core.tools import tool\n",
    "\n",
    "@tool\n",
    "def lookup_swiss_airline_policy(query: str)->str:\n",
    "    \"\"\"Search within the Swiss Airline's company policies to check whether certain options are permitted. Input should be a search query.\"\"\"\n",
    "    # Load spaCy model and compute embedding\n",
    "    nlp = spacy.load(EMBEDDING_MODEL)\n",
    "    query_embedding = nlp(query).vector\n",
    "\n",
    "    # Load Chroma collection\n",
    "    client = chromadb.PersistentClient(path=str(here(VECTORDB_DIR)))\n",
    "    collection = client.get_or_create_collection(name=\"rag-chroma\")\n",
    "\n",
    "    # Query Chroma\n",
    "    results = collection.query(\n",
    "        query_embeddings=[query_embedding],\n",
    "        n_results=K,\n",
    "        include=[\"documents\"]\n",
    "    )\n",
    "\n",
    "    # Combine results into a single string\n",
    "    return \"\\n\\n\".join(results[\"documents\"][0])"
   ]
  },
  {
   "cell_type": "code",
   "execution_count": 12,
   "metadata": {},
   "outputs": [
    {
     "name": "stdout",
     "output_type": "stream",
     "text": [
      "lookup_swiss_airline_policy\n",
      "{'query': {'title': 'Query', 'type': 'string'}}\n",
      "Search within the Swiss Airline's company policies to check whether certain options are permitted. Input should be a search query.\n"
     ]
    }
   ],
   "source": [
    "print(lookup_swiss_airline_policy.name)\n",
    "print(lookup_swiss_airline_policy.args)\n",
    "print(lookup_swiss_airline_policy.description)"
   ]
  },
  {
   "cell_type": "code",
   "execution_count": 13,
   "metadata": {},
   "outputs": [
    {
     "name": "stdout",
     "output_type": "stream",
     "text": [
      "('hour cancellation policy that allows passengers to cancel their flights '\n",
      " 'within 24 hours of booking at +1-877-507-7341\\n'\n",
      " 'without penalty. This policy applies to all fare types, including '\n",
      " 'non-refundable tickets. If you cancel your Swiss Airlines\\n'\n",
      " \"flight within 24 hours of booking, you'll receive a full refund of your \"\n",
      " 'ticket price.\\n'\n",
      " 'How to Cancel Swiss Airlines Flight within 24 Hours? If you need to cancel '\n",
      " 'your Swiss Airlines flight within 24 hours of\\n'\n",
      " 'booking, you can do so easily online. Here are the steps to follow:\\n'\n",
      " 'Go to Swiss Airlines\\' website and click on the \"Manage your bookings\" tab. '\n",
      " 'Enter your booking reference number and last\\n'\n",
      " 'name to access your booking. Select the flight you want to cancel and click '\n",
      " 'on \"Cancel flight.\" Confirm your cancellation\\n'\n",
      " \"and you'll receive a full refund of your ticket price. If you booked your \"\n",
      " \"Swiss Airlines flight through a travel agent, you'll\\n\"\n",
      " 'need to contact them directly to cancel your flight within 24 hours.\\n'\n",
      " 'Important Things to Keep in Mind for Swiss Airlines 24 Hour Cancellation '\n",
      " 'Here are some important things to keep in mind\\n'\n",
      " 'when cancelling your Swiss Airlines flight within 24 hours:\\n'\n",
      " \"Swiss Airlines' 24 hour cancellation policy only applies to flights booked \"\n",
      " 'directly through Swiss Airlines. If you booked\\n'\n",
      " \"your flight through a travel agent or third-party website, you'll need to \"\n",
      " 'check their cancellation policy. If you cancel your\\n'\n",
      " 'Swiss Airlines flight after the 24 hour window, you may be subject to '\n",
      " 'cancellation fees or penalties. If you have a non-\\n'\n",
      " \"refundable ticket and cancel your flight within 24 hours of booking, you'll \"\n",
      " 'receive a full refund of your ticket price.\\n'\n",
      " '\\n'\n",
      " 'invoice with the additional costs of CHF 2.90 minus the amount to be '\n",
      " 'refunded.\\n'\n",
      " 'Do I have to pay the invoice in full before boarding my flight? No, you can '\n",
      " 'board your flight regardless of whether you\\n'\n",
      " 'have paid your POWERPAY invoice or not.\\n'\n",
      " 'Do you have any queries about your invoice? If you have any queries about '\n",
      " 'invoices, please contact POWERPAY’s\\n'\n",
      " 'customer service.\\n'\n",
      " 'E-mail: info@powerpay.ch\\n'\n",
      " 'Hotline: +41 58 806 06 22\\n'\n",
      " 'Customer service is available Mondays to Fridays from 8:00 to 17:00 h.\\n'\n",
      " 'Can I give my business address for payments? Purchases on account can only '\n",
      " 'be made on submission of your private\\n'\n",
      " 'address.')\n"
     ]
    }
   ],
   "source": [
    "pprint(lookup_swiss_airline_policy.invoke(\"can I cancel my ticket?\"))"
   ]
  }
 ],
 "metadata": {
  "kernelspec": {
   "display_name": ".intermediate-chatbot",
   "language": "python",
   "name": "python3"
  },
  "language_info": {
   "codemirror_mode": {
    "name": "ipython",
    "version": 3
   },
   "file_extension": ".py",
   "mimetype": "text/x-python",
   "name": "python",
   "nbconvert_exporter": "python",
   "pygments_lexer": "ipython3",
   "version": "3.12.3"
  }
 },
 "nbformat": 4,
 "nbformat_minor": 2
}
