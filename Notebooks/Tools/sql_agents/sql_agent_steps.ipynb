{
 "cells": [
  {
   "cell_type": "code",
   "execution_count": null,
   "metadata": {},
   "outputs": [
    {
     "data": {
      "text/plain": [
       "True"
      ]
     },
     "execution_count": 1,
     "metadata": {},
     "output_type": "execute_result"
    }
   ],
   "source": [
    "import os\n",
    "from dotenv import load_dotenv\n",
    "from pyprojroot import here\n",
    "from langchain.chains import create_sql_query_chain\n",
    "from langchain_google_genai import ChatGoogleGenerativeAI\n",
    "from langchain_community.utilities import SQLDatabase\n",
    "\n",
    "load_dotenv()"
   ]
  },
  {
   "cell_type": "markdown",
   "metadata": {},
   "source": [
    "**Set the environment variable and load the LLM**"
   ]
  },
  {
   "cell_type": "code",
   "execution_count": null,
   "metadata": {},
   "outputs": [],
   "source": [
    "llm = ChatGoogleGenerativeAI(\n",
    "    model=os.getenv(\"MODEL_NAME\"), \n",
    "    temperature=os.getenv(\"TEMPERATURE\"),\n",
    "    google_api_key=os.getenv(\"GEMINI_API_KEY\"),\n",
    ")"
   ]
  },
  {
   "cell_type": "markdown",
   "metadata": {},
   "source": [
    "**Load and test the sqlite db**"
   ]
  },
  {
   "cell_type": "code",
   "execution_count": 4,
   "metadata": {},
   "outputs": [
    {
     "name": "stdout",
     "output_type": "stream",
     "text": [
      "sqlite\n",
      "['aircrafts_data', 'airports_data', 'boarding_passes', 'bookings', 'car_rentals', 'flights', 'hotels', 'seats', 'ticket_flights', 'tickets', 'trip_recommendations']\n"
     ]
    },
    {
     "data": {
      "text/plain": [
       "\"[('773', 'Boeing 777-300', 11100), ('763', 'Boeing 767-300', 7900), ('SU9', 'Sukhoi Superjet-100', 3000), ('320', 'Airbus A320-200', 5700), ('321', 'Airbus A321-200', 5600), ('319', 'Airbus A319-100', 6700), ('733', 'Boeing 737-300', 4200), ('CN1', 'Cessna 208 Caravan', 1200), ('CR2', 'Bombardier CRJ-200', 2700)]\""
      ]
     },
     "execution_count": 4,
     "metadata": {},
     "output_type": "execute_result"
    }
   ],
   "source": [
    "sqldb_directory = here(\"data/travel.sqlite\")\n",
    "db = SQLDatabase.from_uri(f\"sqlite:///{sqldb_directory}\")\n",
    "print(db.dialect)\n",
    "print(db.get_usable_table_names())\n",
    "db.run(\"SELECT * FROM aircrafts_data LIMIT 10;\")"
   ]
  },
  {
   "cell_type": "markdown",
   "metadata": {},
   "source": [
    "**Create the SQL agent and run a test query**"
   ]
  },
  {
   "cell_type": "code",
   "execution_count": 5,
   "metadata": {},
   "outputs": [
    {
     "name": "stdout",
     "output_type": "stream",
     "text": [
      "SELECT COUNT(*) FROM aircrafts_data\n"
     ]
    }
   ],
   "source": [
    "import re\n",
    "\n",
    "chain = create_sql_query_chain(llm, db)\n",
    "\n",
    "def extract_sql_query(text: str) -> str:\n",
    "    \"\"\"\n",
    "    Extract a clean SQL query from a possibly formatted or prefixed LLM output.\n",
    "    Handles code blocks, 'SQLQuery:' prefix, and various SQL command types.\n",
    "    \"\"\"\n",
    "    text = text.strip()\n",
    "\n",
    "    # Step 1: Remove code block markers\n",
    "    if text.startswith(\"```\"):\n",
    "        lines = text.splitlines()\n",
    "        # Remove first/last lines if they're ``` or ```sql\n",
    "        if lines[0].startswith(\"```\") and lines[-1].startswith(\"```\"):\n",
    "            text = \"\\n\".join(lines[1:-1]).strip()\n",
    "\n",
    "    # Step 2: Remove known prefixes like \"SQLQuery:\"\n",
    "    text = re.sub(r\"^(SQLQuery:|Query:)\\s*\", \"\", text, flags=re.IGNORECASE)\n",
    "\n",
    "    # Step 3: Extract only the actual SQL statement (any type)\n",
    "    match = re.search(\n",
    "        r\"(SELECT|INSERT|UPDATE|DELETE|PRAGMA|CREATE|DROP|ALTER|DESCRIBE|SHOW)\\s.+\",\n",
    "        text,\n",
    "        flags=re.IGNORECASE | re.DOTALL,\n",
    "    )\n",
    "    if match:\n",
    "        query = match.group(0).strip()\n",
    "        # Remove trailing backticks or semicolons\n",
    "        return query.rstrip(\";`\").strip()\n",
    "\n",
    "    # Step 4: If nothing matched, return original (but cleaned)\n",
    "    return text\n",
    "\n",
    "\n",
    "response = chain.invoke({\"question\": \"How many rows are there in the aircrafts_data table?\"})\n",
    "sql_query = extract_sql_query(response)\n",
    "print(sql_query)"
   ]
  },
  {
   "cell_type": "code",
   "execution_count": 6,
   "metadata": {},
   "outputs": [
    {
     "data": {
      "text/plain": [
       "'[(9,)]'"
      ]
     },
     "execution_count": 6,
     "metadata": {},
     "output_type": "execute_result"
    }
   ],
   "source": [
    "db.run(sql_query)"
   ]
  }
 ],
 "metadata": {
  "kernelspec": {
   "display_name": ".intermediate-chatbot",
   "language": "python",
   "name": "python3"
  },
  "language_info": {
   "codemirror_mode": {
    "name": "ipython",
    "version": 3
   },
   "file_extension": ".py",
   "mimetype": "text/x-python",
   "name": "python",
   "nbconvert_exporter": "python",
   "pygments_lexer": "ipython3",
   "version": "3.12.3"
  }
 },
 "nbformat": 4,
 "nbformat_minor": 2
}
