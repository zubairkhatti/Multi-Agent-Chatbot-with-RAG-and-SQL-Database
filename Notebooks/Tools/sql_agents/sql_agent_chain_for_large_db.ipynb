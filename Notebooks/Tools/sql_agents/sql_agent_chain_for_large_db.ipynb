{
 "cells": [
  {
   "cell_type": "markdown",
   "metadata": {},
   "source": [
    "**Reference: https://python.langchain.com/v0.1/docs/use_cases/sql/large_db/**"
   ]
  },
  {
   "cell_type": "markdown",
   "metadata": {},
   "source": [
    "\n",
    "#### What happens in this notebook:\n",
    "\n",
    "##### **Table Model Definition**\n",
    "- **`Table` Class**: This is a simple Pydantic model representing a SQL table. It has one attribute, `name`, which is a string and is described as \"Name of table in SQL database.\"\n",
    "  - This model is used in the extraction process to match relevant SQL tables based on the user's query.\n",
    "\n",
    "---\n",
    "\n",
    "##### **Helper Function - `get_tables`**\n",
    "- **`get_tables`**: This function takes a list of `Table` objects (i.e., categories such as \"Music\" or \"Business\") and returns a list of corresponding SQL table names based on the category.\n",
    "  - For example, if the category is `\"Music\"`, the tables `\"Album\"`, `\"Artist\"`, `\"Genre\"`, etc., are added to the result.\n",
    "  - Similarly, for `\"Business\"`, the corresponding tables like `\"Customer\"`, `\"Employee\"`, etc., are included.\n",
    "\n",
    "---\n",
    "\n",
    "##### **LLM and Environment Setup**\n",
    "- Loads environment variables (`MODEL_NAME`, `TEMPERATURE`, `GEMINI_API_KEY`) using `dotenv`.\n",
    "- Initializes two LLMs using `ChatGoogleGenerativeAI`:\n",
    "  - `sql_agent_llm`: for SQL query generation.\n",
    "  - `table_extractor_llm`: for extracting relevant tables or categories.\n",
    "\n",
    "---\n",
    "\n",
    "##### **Connect to the SQL Database (`db`)**\n",
    "- Connects to the Chinook SQLite database using `SQLDatabase.from_uri`.\n",
    "- Prints available tables.\n",
    "- Runs a sample query: `SELECT * FROM Artist LIMIT 10;`\n",
    "\n",
    "---\n",
    "\n",
    "##### **Strategies for Table Selection**\n",
    "\n",
    "##### **Strategy A: Direct Table Extraction**\n",
    "- Combines all table names from the database.\n",
    "- Uses LLM and `create_extraction_chain_pydantic` to return relevant SQL table names based on user's question.\n",
    "\n",
    "##### **Strategy B: Rule-based Category Mapping**\n",
    "- Uses a predefined mapping:\n",
    "  - `\"Music\"` → Album, Artist, Genre, MediaType, Playlist, PlaylistTrack, Track\n",
    "  - `\"Business\"` → Customer, Employee, Invoice, InvoiceLine\n",
    "- LLM decides the category and returns all related tables.\n",
    "\n",
    "##### **Strategy C: Category → Table Mapping (2-Step)**\n",
    "- **Step 1**: Uses LLM to classify the question into a category (e.g., Music or Business).\n",
    "- **Step 2**: Python function `get_tables()` maps the category to actual SQL table names.\n",
    "---\n",
    "##### **SQL Query Construction and Cleaning** \n",
    "- **`query_chain`**: Generates the SQL query using LLM and `create_sql_query_chain()`.\n",
    "- **`extract_sql_query()`**: Extracts and cleans raw LLM output to return only the valid SQL string (removes code blocks, `SQLQuery:` prefix, semicolons, etc.).\n",
    "- Uses `RunnablePassthrough` and `RunnableLambda` to build a pipeline:\n",
    "  1. Takes user question.\n",
    "  2. Identifies relevant tables via `table_chain`.\n",
    "  3. Generates and cleans SQL query.\n",
    "  4. Returns the final query result from database.\n",
    "\n",
    "---\n",
    "##### **Full Agent Pipeline (`full_chain`)** \n",
    "- **Input Mapping**: Maps `{\"question\": itemgetter(\"input\")}` for consistency in the chain.\n",
    "- **Pipeline Flow**:\n",
    "  - `table_chain` → assigns `table_names_to_use`\n",
    "  - `query_chain` → generates SQL using table context\n",
    "  - `clean_query_output` → extracts final query string"
   ]
  },
  {
   "cell_type": "code",
   "execution_count": null,
   "metadata": {},
   "outputs": [
    {
     "data": {
      "text/plain": [
       "True"
      ]
     },
     "execution_count": 1,
     "metadata": {},
     "output_type": "execute_result"
    }
   ],
   "source": [
    "import os\n",
    "from dotenv import load_dotenv\n",
    "from pyprojroot import here\n",
    "from typing import List\n",
    "from langchain_community.utilities import SQLDatabase\n",
    "from langchain_google_genai import ChatGoogleGenerativeAI\n",
    "from pprint import pprint\n",
    "\n",
    "load_dotenv()"
   ]
  },
  {
   "cell_type": "markdown",
   "metadata": {},
   "source": [
    "**Set the environment variables and load the LLM**"
   ]
  },
  {
   "cell_type": "code",
   "execution_count": null,
   "metadata": {},
   "outputs": [],
   "source": [
    "sql_agent_llm = ChatGoogleGenerativeAI(\n",
    "    model=os.getenv(\"MODEL_NAME\"),\n",
    "    temperature=os.getenv(\"TEMPERATURE\"),\n",
    "    google_api_key=os.getenv(\"GEMINI_API_KEY\")\n",
    ")\n",
    "\n",
    "table_extractor_llm = ChatGoogleGenerativeAI(\n",
    "    model=os.getenv(\"MODEL_NAME\"),\n",
    "    temperature=os.getenv(\"TEMPERATURE\"),\n",
    "    google_api_key=os.getenv(\"GEMINI_API_KEY\")\n",
    ")"
   ]
  },
  {
   "cell_type": "code",
   "execution_count": 3,
   "metadata": {},
   "outputs": [
    {
     "name": "stdout",
     "output_type": "stream",
     "text": [
      "sqlite\n",
      "['Album', 'Artist', 'Customer', 'Employee', 'Genre', 'Invoice', 'InvoiceLine', 'MediaType', 'Playlist', 'PlaylistTrack', 'Track']\n"
     ]
    },
    {
     "data": {
      "text/plain": [
       "\"[(1, 'AC/DC'), (2, 'Accept'), (3, 'Aerosmith'), (4, 'Alanis Morissette'), (5, 'Alice In Chains'), (6, 'Antônio Carlos Jobim'), (7, 'Apocalyptica'), (8, 'Audioslave'), (9, 'BackBeat'), (10, 'Billy Cobham')]\""
      ]
     },
     "execution_count": 3,
     "metadata": {},
     "output_type": "execute_result"
    }
   ],
   "source": [
    "sqldb_directory = here(\"data/Chinook.db\")\n",
    "db = SQLDatabase.from_uri(f\"sqlite:///{sqldb_directory}\")\n",
    "print(db.dialect)\n",
    "print(db.get_usable_table_names())\n",
    "db.run(\"SELECT * FROM Artist LIMIT 10;\")"
   ]
  },
  {
   "cell_type": "markdown",
   "metadata": {},
   "source": [
    "**Prepare the `Table` class**"
   ]
  },
  {
   "cell_type": "code",
   "execution_count": 4,
   "metadata": {},
   "outputs": [
    {
     "name": "stderr",
     "output_type": "stream",
     "text": [
      "/home/zubair/Work/Projects/intermediate_chatbot/.intermediate-chatbot/lib/python3.12/site-packages/IPython/core/interactiveshell.py:3699: LangChainDeprecationWarning: As of langchain-core 0.3.0, LangChain uses pydantic v2 internally. The langchain_core.pydantic_v1 module was a compatibility shim for pydantic v1, and should no longer be used. Please update the code to import from Pydantic directly.\n",
      "\n",
      "For example, replace imports like: `from langchain_core.pydantic_v1 import BaseModel`\n",
      "with: `from pydantic import BaseModel`\n",
      "or the v1 compatibility namespace if you are working in a code base that has not been fully upgraded to pydantic 2 yet. \tfrom pydantic.v1 import BaseModel\n",
      "\n",
      "  exec(code_obj, self.user_global_ns, self.user_ns)\n"
     ]
    }
   ],
   "source": [
    "from langchain_core.pydantic_v1 import BaseModel, Field\n",
    "\n",
    "class Table(BaseModel):\n",
    "    \"\"\"\n",
    "    Represents a table in the SQL database.\n",
    "\n",
    "    Attributes:\n",
    "        name (str): The name of the table in the SQL database.\n",
    "    \"\"\"\n",
    "    name: str = Field(description=\"Name of table in SQL database.\")"
   ]
  },
  {
   "cell_type": "markdown",
   "metadata": {},
   "source": [
    "### **Strategy A:**"
   ]
  },
  {
   "cell_type": "code",
   "execution_count": 5,
   "metadata": {},
   "outputs": [
    {
     "name": "stdout",
     "output_type": "stream",
     "text": [
      "('Album\\n'\n",
      " 'Artist\\n'\n",
      " 'Customer\\n'\n",
      " 'Employee\\n'\n",
      " 'Genre\\n'\n",
      " 'Invoice\\n'\n",
      " 'InvoiceLine\\n'\n",
      " 'MediaType\\n'\n",
      " 'Playlist\\n'\n",
      " 'PlaylistTrack\\n'\n",
      " 'Track')\n"
     ]
    }
   ],
   "source": [
    "table_names = \"\\n\".join(db.get_usable_table_names())\n",
    "pprint(table_names)"
   ]
  },
  {
   "cell_type": "code",
   "execution_count": 6,
   "metadata": {},
   "outputs": [
    {
     "name": "stderr",
     "output_type": "stream",
     "text": [
      "/tmp/ipykernel_138597/3082656754.py:9: LangChainDeprecationWarning: LangChain has introduced a method called `with_structured_output` thatis available on ChatModels capable of tool calling.You can read more about the method here: <https://python.langchain.com/docs/modules/model_io/chat/structured_output/>. Please follow our extraction use case documentation for more guidelineson how to do information extraction with LLMs.<https://python.langchain.com/docs/use_cases/extraction/>. with_structured_output does not currently support a list of pydantic schemas. If this is a blocker or if you notice other issues, please provide feedback here:<https://github.com/langchain-ai/langchain/discussions/18154>\n",
      "  table_chain = create_extraction_chain_pydantic(pydantic_schemas=Table, llm=table_extractor_llm, system_message=system)\n"
     ]
    },
    {
     "data": {
      "text/plain": [
       "[Table(name='Artist'), Table(name='Track'), Table(name='Genre')]"
      ]
     },
     "execution_count": 6,
     "metadata": {},
     "output_type": "execute_result"
    }
   ],
   "source": [
    "from langchain.chains.openai_tools import create_extraction_chain_pydantic\n",
    "\n",
    "system = f\"\"\"Return the names of ALL the SQL tables that MIGHT be relevant to the user question. \\\n",
    "The tables are:\n",
    "\n",
    "{table_names}\n",
    "\n",
    "Remember to include ALL POTENTIALLY RELEVANT tables, even if you're not sure that they're needed.\"\"\"\n",
    "table_chain = create_extraction_chain_pydantic(pydantic_schemas=Table, llm=table_extractor_llm, system_message=system)\n",
    "table_chain.invoke({\"input\": \"What are all the genres of Alanis Morisette songs\"})"
   ]
  },
  {
   "cell_type": "markdown",
   "metadata": {},
   "source": [
    "### **Strategy B:**"
   ]
  },
  {
   "cell_type": "markdown",
   "metadata": {},
   "source": [
    "Music:\n",
    "\n",
    "- \"Album\"\n",
    "- \"Artist\"\n",
    "- \"Genre\"\n",
    "- \"MediaType\"\n",
    "- \"Playlist\"\n",
    "- \"PlaylistTrack\"\n",
    "- \"Track\"\n",
    "\n",
    "Business:\n",
    "\n",
    "- \"Customer\"\n",
    "- \"Employee\"\n",
    "- \"Invoice\"\n",
    "- \"InvoiceLine\""
   ]
  },
  {
   "cell_type": "code",
   "execution_count": 7,
   "metadata": {},
   "outputs": [
    {
     "data": {
      "text/plain": [
       "[Table(name='Album'),\n",
       " Table(name='Artist'),\n",
       " Table(name='Genre'),\n",
       " Table(name='MediaType'),\n",
       " Table(name='Playlist'),\n",
       " Table(name='PlaylistTrack'),\n",
       " Table(name='Track')]"
      ]
     },
     "execution_count": 7,
     "metadata": {},
     "output_type": "execute_result"
    }
   ],
   "source": [
    "from langchain.chains.openai_tools import create_extraction_chain_pydantic\n",
    "\n",
    "system = f\"\"\"You will recieve a question.\n",
    "\n",
    "If the question is about **Music**, return **ALL** these tables:\n",
    "  - \"Album\"\n",
    "  - \"Artist\"\n",
    "  - \"Genre\"\n",
    "  - \"MediaType\"\n",
    "  - \"Playlist\"\n",
    "  - \"PlaylistTrack\"\n",
    "  - \"Track\"\n",
    "\n",
    "If the question is about **Business**, return **ALL** these tables:\n",
    "  - \"Customer\"\n",
    "  - \"Employee\"\n",
    "  - \"Invoice\"\n",
    "  - \"InvoiceLine\"\n",
    "\n",
    "If you are unsure, return the full list of all available tables for both Music and Business categories.\"\"\"\n",
    "table_chain = create_extraction_chain_pydantic(pydantic_schemas=Table, llm=table_extractor_llm, system_message=system)\n",
    "table_chain.invoke({\"input\": \"What are all the genres of Alanis Morisette songs\"})"
   ]
  },
  {
   "cell_type": "markdown",
   "metadata": {},
   "source": [
    "### **Strategy C:**\n",
    "\n",
    "- **Step 1: Define the category**"
   ]
  },
  {
   "cell_type": "code",
   "execution_count": 8,
   "metadata": {},
   "outputs": [],
   "source": [
    "from langchain.chains.openai_tools import create_extraction_chain_pydantic\n",
    "\n",
    "system = \"\"\"Return the names of the SQL tables that are relevant to the user question. \\\n",
    "The tables are:\n",
    "\n",
    "Music\n",
    "Business\"\"\"\n",
    "category_chain = create_extraction_chain_pydantic(pydantic_schemas=Table, llm=table_extractor_llm, system_message=system)"
   ]
  },
  {
   "cell_type": "code",
   "execution_count": 9,
   "metadata": {},
   "outputs": [
    {
     "data": {
      "text/plain": [
       "[Table(name='Music')]"
      ]
     },
     "execution_count": 9,
     "metadata": {},
     "output_type": "execute_result"
    }
   ],
   "source": [
    "category_chain.invoke({\"input\": \"What are all the genres of Alanis Morisette songs\"})"
   ]
  },
  {
   "cell_type": "markdown",
   "metadata": {},
   "source": [
    "- **Step 2: Execute the python function**"
   ]
  },
  {
   "cell_type": "code",
   "execution_count": 10,
   "metadata": {},
   "outputs": [
    {
     "data": {
      "text/plain": [
       "['Album', 'Artist', 'Genre', 'MediaType', 'Playlist', 'PlaylistTrack', 'Track']"
      ]
     },
     "execution_count": 10,
     "metadata": {},
     "output_type": "execute_result"
    }
   ],
   "source": [
    "def get_tables(categories: List[Table]) -> List[str]:\n",
    "    \"\"\"Maps category names to corresponding SQL table names.\n",
    "\n",
    "    Args:\n",
    "        categories (List[Table]): A list of `Table` objects representing different categories.\n",
    "\n",
    "    Returns:\n",
    "        List[str]: A list of SQL table names corresponding to the provided categories.\n",
    "    \"\"\"\n",
    "    tables = []\n",
    "    for category in categories:\n",
    "        if category.name == \"Music\":\n",
    "            tables.extend(\n",
    "                [\n",
    "                    \"Album\",\n",
    "                    \"Artist\",\n",
    "                    \"Genre\",\n",
    "                    \"MediaType\",\n",
    "                    \"Playlist\",\n",
    "                    \"PlaylistTrack\",\n",
    "                    \"Track\",\n",
    "                ]\n",
    "            )\n",
    "        elif category.name == \"Business\":\n",
    "            tables.extend([\"Customer\", \"Employee\", \"Invoice\", \"InvoiceLine\"])\n",
    "    return tables\n",
    "\n",
    "\n",
    "table_chain = category_chain | get_tables \n",
    "table_chain.invoke({\"input\": \"What are all the genres of Alanis Morisette songs\"})"
   ]
  },
  {
   "cell_type": "markdown",
   "metadata": {},
   "source": [
    "### **Final step:**\n",
    "\n",
    "**Attach the desired strategy to your SQL agent**"
   ]
  },
  {
   "cell_type": "code",
   "execution_count": 11,
   "metadata": {},
   "outputs": [],
   "source": [
    "import re\n",
    "\n",
    "def extract_sql_query(text: str) -> str:\n",
    "    \"\"\"\n",
    "    Extract a clean SQL query from a possibly formatted or prefixed LLM output.\n",
    "    Handles code blocks, 'SQLQuery:' prefix, and various SQL command types.\n",
    "    \"\"\"\n",
    "    text = text.strip()\n",
    "\n",
    "    # Step 1: Remove code block markers\n",
    "    if text.startswith(\"```\"):\n",
    "        lines = text.splitlines()\n",
    "        # Remove first/last lines if they're ``` or ```sql\n",
    "        if lines[0].startswith(\"```\") and lines[-1].startswith(\"```\"):\n",
    "            text = \"\\n\".join(lines[1:-1]).strip()\n",
    "\n",
    "    # Step 2: Remove known prefixes like \"SQLQuery:\"\n",
    "    text = re.sub(r\"^(SQLQuery:|Query:)\\s*\", \"\", text, flags=re.IGNORECASE)\n",
    "\n",
    "    # Step 3: Extract only the actual SQL statement (any type)\n",
    "    match = re.search(\n",
    "        r\"(SELECT|INSERT|UPDATE|DELETE|PRAGMA|CREATE|DROP|ALTER|DESCRIBE|SHOW)\\s.+\",\n",
    "        text,\n",
    "        flags=re.IGNORECASE | re.DOTALL,\n",
    "    )\n",
    "    if match:\n",
    "        query = match.group(0).strip()\n",
    "        # Remove trailing backticks or semicolons\n",
    "        return query.rstrip(\";`\").strip()\n",
    "\n",
    "    # Step 4: If nothing matched, return original (but cleaned)\n",
    "    return text\n"
   ]
  },
  {
   "cell_type": "code",
   "execution_count": 12,
   "metadata": {},
   "outputs": [],
   "source": [
    "from langchain_core.runnables import RunnablePassthrough, RunnableLambda\n",
    "from langchain.chains import create_sql_query_chain\n",
    "from operator import itemgetter\n",
    "\n",
    "query_chain = create_sql_query_chain(sql_agent_llm, db)\n",
    "clean_query_output = RunnableLambda(extract_sql_query)\n",
    "# Convert \"question\" key to the \"input\" key expected by current table_chain.\n",
    "table_chain = {\"input\": itemgetter(\"question\")} | table_chain\n",
    "# Set table_names_to_use using table_chain.\n",
    "full_chain = RunnablePassthrough.assign(table_names_to_use=table_chain) | query_chain | clean_query_output"
   ]
  },
  {
   "cell_type": "markdown",
   "metadata": {},
   "source": [
    "**Test the agent**"
   ]
  },
  {
   "cell_type": "code",
   "execution_count": 13,
   "metadata": {},
   "outputs": [
    {
     "name": "stdout",
     "output_type": "stream",
     "text": [
      "SELECT DISTINCT\n",
      "  T2.Name\n",
      "FROM Artist AS T1\n",
      "INNER JOIN Album AS T3\n",
      "  ON T1.ArtistId = T3.ArtistId\n",
      "INNER JOIN Track AS T4\n",
      "  ON T3.AlbumId = T4.AlbumId\n",
      "INNER JOIN Genre AS T2\n",
      "  ON T4.GenreId = T2.GenreId\n",
      "WHERE\n",
      "  T1.Name = 'Alanis Morissette'\n"
     ]
    }
   ],
   "source": [
    "query = full_chain.invoke(\n",
    "    {\"question\": \"What are all the genres of Alanis Morisette songs\"}\n",
    ")\n",
    "print(query)"
   ]
  },
  {
   "cell_type": "code",
   "execution_count": 14,
   "metadata": {},
   "outputs": [
    {
     "data": {
      "text/plain": [
       "\"[('Rock',)]\""
      ]
     },
     "execution_count": 14,
     "metadata": {},
     "output_type": "execute_result"
    }
   ],
   "source": [
    "db.run(query)"
   ]
  },
  {
   "cell_type": "markdown",
   "metadata": {},
   "source": [
    "**Prepare the tool (Don't run the following cell)**"
   ]
  },
  {
   "cell_type": "code",
   "execution_count": null,
   "metadata": {},
   "outputs": [],
   "source": [
    "class ChinookSQLAgent:\n",
    "    \"\"\"\n",
    "    SQL agent for interacting with the Chinook database using LLM-generated queries.\n",
    "\n",
    "    This agent uses a language model to:\n",
    "    - Identify relevant SQL tables based on the question.\n",
    "    - Construct a SQL query targeting only those tables.\n",
    "    - Clean and return the final SQL query string.\n",
    "\n",
    "    Attributes:\n",
    "        sql_agent_llm (ChatGoogleGenerativeAI): Configured LLM for query understanding and generation.\n",
    "        db (SQLDatabase): SQL database connection for the Chinook DB.\n",
    "        full_chain (Runnable): Execution pipeline for table extraction, query generation, and cleanup.\n",
    "    \"\"\"\n",
    "    \n",
    "    def __init__(self, sqldb_directory: str, llm: str, llm_temerature: float, llm_api_key: str) -> None:\n",
    "        \"\"\"\n",
    "        Initialize the ChinookSQLAgent with database path and LLM configuration.\n",
    "\n",
    "        Args:\n",
    "            sqldb_directory (str): Path to the Chinook SQLite database.\n",
    "            llm (str): Name of the LLM model (e.g., \"gemini-2.5-flash\").\n",
    "            llm_temerature (float): Temperature for LLM response variability.\n",
    "            llm_api_key (str): API key for the LLM service provider.\n",
    "        \"\"\"\n",
    "        self.sql_agent_llm = ChatGoogleGenerativeAI(\n",
    "            model=llm,\n",
    "            temperature=llm_temerature,\n",
    "            google_api_key=llm_api_key\n",
    "        )\n",
    "        self.db = SQLDatabase.from_uri(f\"sqlite:///{sqldb_directory}\")\n",
    "        print(self.db.get_usable_table_names())\n",
    "        category_chain_system = \"\"\"Return the names of the SQL tables that are relevant to the user question. \\\n",
    "        The tables are:\n",
    "\n",
    "        Music\n",
    "        Business\"\"\"\n",
    "        category_chain = create_extraction_chain_pydantic(\n",
    "            Table, self.sql_agent_llm, system_message=category_chain_system)\n",
    "        table_chain = category_chain | get_tables  # noqa\n",
    "        query_chain = create_sql_query_chain(self.sql_agent_llm, self.db)\n",
    "        clean_query_output = RunnableLambda(extract_sql_query)\n",
    "        # Convert \"question\" key to the \"input\" key expected by current table_chain.\n",
    "        table_chain = {\"input\": itemgetter(\"question\")} | table_chain\n",
    "        # Set table_names_to_use using table_chain.\n",
    "        self.full_chain = RunnablePassthrough.assign(\n",
    "            table_names_to_use=table_chain) | query_chain | clean_query_output\n",
    "\n",
    "\n",
    "@tool\n",
    "def query_chinook_sqldb(query: str) -> str:\n",
    "    # \"\"\"Query the Chinook SQL Database. Input should be a search query.\"\"\"\n",
    "    \"\"\"\n",
    "    Query the Chinook SQL database using natural language.\n",
    "\n",
    "    Args:\n",
    "        query (str): User's natural language question.\n",
    "\n",
    "    Returns:\n",
    "        str: Query result after LLM-driven SQL generation and execution.\n",
    "    \"\"\"\n",
    "    # Create an instance of ChinookSQLAgent\n",
    "    agent = ChinookSQLAgent(\n",
    "        sqldb_directory=TOOLS_CFG.chinook_sqldb_directory,\n",
    "        llm=TOOLS_CFG.chinook_sqlagent_llm,\n",
    "        llm_temerature=TOOLS_CFG.chinook_sqlagent_llm_temperature,\n",
    "        llm_api_key=TOOLS_CFG.chinook_sqlagent_llm_api_key\n",
    "    )\n",
    "\n",
    "    query = agent.full_chain.invoke({\"question\": query})\n",
    "\n",
    "    return agent.db.run(query)\n"
   ]
  }
 ],
 "metadata": {
  "kernelspec": {
   "display_name": ".intermediate-chatbot",
   "language": "python",
   "name": "python3"
  },
  "language_info": {
   "codemirror_mode": {
    "name": "ipython",
    "version": 3
   },
   "file_extension": ".py",
   "mimetype": "text/x-python",
   "name": "python",
   "nbconvert_exporter": "python",
   "pygments_lexer": "ipython3",
   "version": "3.12.3"
  }
 },
 "nbformat": 4,
 "nbformat_minor": 2
}
