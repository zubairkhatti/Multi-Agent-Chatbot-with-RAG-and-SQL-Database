{
 "cells": [
  {
   "cell_type": "code",
   "execution_count": null,
   "metadata": {},
   "outputs": [
    {
     "data": {
      "text/plain": [
       "True"
      ]
     },
     "execution_count": 1,
     "metadata": {},
     "output_type": "execute_result"
    }
   ],
   "source": [
    "from pyprojroot import here\n",
    "from langchain_community.utilities import SQLDatabase\n",
    "from langchain.chains import create_sql_query_chain\n",
    "from langchain_community.tools.sql_database.tool import QuerySQLDataBaseTool\n",
    "from langchain_core.prompts import PromptTemplate\n",
    "from langchain_google_genai import ChatGoogleGenerativeAI\n",
    "from langchain_core.output_parsers import StrOutputParser\n",
    "from langchain_core.runnables import RunnablePassthrough, RunnableLambda\n",
    "from operator import itemgetter\n",
    "import os\n",
    "from dotenv import load_dotenv\n",
    "load_dotenv()"
   ]
  },
  {
   "cell_type": "markdown",
   "metadata": {},
   "source": [
    "**Set the environment variables and load the LLM**"
   ]
  },
  {
   "cell_type": "code",
   "execution_count": null,
   "metadata": {},
   "outputs": [],
   "source": [
    "llm = ChatGoogleGenerativeAI(\n",
    "    model=os.getenv(\"MODEL_NAME\"),\n",
    "    temperature=os.getenv(\"TEMPERATURE\"),\n",
    "    google_api_key=os.getenv(\"GEMINI_API_KEY\")\n",
    ")"
   ]
  },
  {
   "cell_type": "markdown",
   "metadata": {},
   "source": [
    "**Load and test the sqlite db**"
   ]
  },
  {
   "cell_type": "code",
   "execution_count": null,
   "metadata": {},
   "outputs": [
    {
     "name": "stdout",
     "output_type": "stream",
     "text": [
      "sqlite\n",
      "['aircrafts_data', 'airports_data', 'boarding_passes', 'bookings', 'car_rentals', 'flights', 'hotels', 'seats', 'ticket_flights', 'tickets', 'trip_recommendations']\n"
     ]
    },
    {
     "data": {
      "text/plain": [
       "\"[('773', 'Boeing 777-300', 11100), ('763', 'Boeing 767-300', 7900), ('SU9', 'Sukhoi Superjet-100', 3000), ('320', 'Airbus A320-200', 5700), ('321', 'Airbus A321-200', 5600), ('319', 'Airbus A319-100', 6700), ('733', 'Boeing 737-300', 4200), ('CN1', 'Cessna 208 Caravan', 1200), ('CR2', 'Bombardier CRJ-200', 2700)]\""
      ]
     },
     "execution_count": 3,
     "metadata": {},
     "output_type": "execute_result"
    }
   ],
   "source": [
    "sqldb_directory = here(\"data/travel.sqlite\")\n",
    "db = SQLDatabase.from_uri(\n",
    "    f\"sqlite:///{sqldb_directory}\")\n",
    "\n",
    "print(db.dialect)\n",
    "print(db.get_usable_table_names())\n",
    "db.run(\"SELECT * FROM aircrafts_data LIMIT 10;\")"
   ]
  },
  {
   "cell_type": "markdown",
   "metadata": {},
   "source": [
    "**Create the SQL agent chain and run a test query**"
   ]
  },
  {
   "cell_type": "code",
   "execution_count": 4,
   "metadata": {},
   "outputs": [],
   "source": [
    "import re\n",
    "\n",
    "def extract_sql_query(text: str) -> str:\n",
    "    \"\"\"\n",
    "    Extract a clean SQL query from a possibly formatted or prefixed LLM output.\n",
    "    Handles code blocks, 'SQLQuery:' prefix, and various SQL command types.\n",
    "    \"\"\"\n",
    "    text = text.strip()\n",
    "\n",
    "    # Step 1: Remove code block markers\n",
    "    if text.startswith(\"```\"):\n",
    "        lines = text.splitlines()\n",
    "        # Remove first/last lines if they're ``` or ```sql\n",
    "        if lines[0].startswith(\"```\") and lines[-1].startswith(\"```\"):\n",
    "            text = \"\\n\".join(lines[1:-1]).strip()\n",
    "\n",
    "    # Step 2: Remove known prefixes like \"SQLQuery:\"\n",
    "    text = re.sub(r\"^(SQLQuery:|Query:)\\s*\", \"\", text, flags=re.IGNORECASE)\n",
    "\n",
    "    # Step 3: Extract only the actual SQL statement (any type)\n",
    "    match = re.search(\n",
    "        r\"(SELECT|INSERT|UPDATE|DELETE|PRAGMA|CREATE|DROP|ALTER|DESCRIBE|SHOW)\\s.+\",\n",
    "        text,\n",
    "        flags=re.IGNORECASE | re.DOTALL,\n",
    "    )\n",
    "    if match:\n",
    "        query = match.group(0).strip()\n",
    "        # Remove trailing backticks or semicolons\n",
    "        return query.rstrip(\";`\").strip()\n",
    "\n",
    "    # Step 4: If nothing matched, return original (but cleaned)\n",
    "    return text\n"
   ]
  },
  {
   "cell_type": "code",
   "execution_count": null,
   "metadata": {},
   "outputs": [
    {
     "name": "stderr",
     "output_type": "stream",
     "text": [
      "/tmp/ipykernel_115371/1718655177.py:8: LangChainDeprecationWarning: The class `QuerySQLDataBaseTool` was deprecated in LangChain 0.3.12 and will be removed in 1.0. An updated version of the class exists in the :class:`~langchain-community package and should be used instead. To use it run `pip install -U :class:`~langchain-community` and import as `from :class:`~langchain_community.tools import QuerySQLDatabaseTool``.\n",
      "  execute_query = QuerySQLDataBaseTool(db=db)\n"
     ]
    }
   ],
   "source": [
    "system_role = \"\"\"Given the following user question, corresponding SQL query, and SQL result, answer the user question.\\n\n",
    "    Question: {question}\\n\n",
    "    SQL Query: {query}\\n\n",
    "    SQL Result: {result}\\n\n",
    "    Answer:\n",
    "    \"\"\"\n",
    "\n",
    "execute_query = QuerySQLDataBaseTool(db=db)\n",
    "write_query = create_sql_query_chain(\n",
    "    llm, db)\n",
    "clean_query_output = RunnableLambda(extract_sql_query)\n",
    "\n",
    "answer_prompt = PromptTemplate.from_template(\n",
    "    system_role)\n",
    "answer = answer_prompt | llm | StrOutputParser()\n",
    "\n",
    "chain = (\n",
    "    RunnablePassthrough.assign(raw_query=write_query)\n",
    "    .assign(query=itemgetter(\"raw_query\") | clean_query_output)\n",
    "    .assign(result=itemgetter(\"query\") | execute_query)\n",
    "    | answer\n",
    ")"
   ]
  },
  {
   "cell_type": "code",
   "execution_count": 6,
   "metadata": {},
   "outputs": [
    {
     "data": {
      "text/plain": [
       "'You have 11 tables in the database. Their names are: aircrafts_data, airports_data, boarding_passes, bookings, flights, seats, ticket_flights, tickets, car_rentals, hotels, and trip_recommendations.'"
      ]
     },
     "execution_count": 6,
     "metadata": {},
     "output_type": "execute_result"
    }
   ],
   "source": [
    "message = \"How many tables do I have in the database? and what are their names?\"\n",
    "response = chain.invoke({\"question\": message})\n",
    "response"
   ]
  },
  {
   "cell_type": "markdown",
   "metadata": {},
   "source": [
    "**Travel SQL-agent Tool Design**"
   ]
  },
  {
   "cell_type": "code",
   "execution_count": null,
   "metadata": {},
   "outputs": [],
   "source": [
    "from langchain_core.tools import tool\n",
    "from langchain_community.utilities import SQLDatabase\n",
    "from langchain.chains import create_sql_query_chain\n",
    "from langchain_community.tools.sql_database.tool import QuerySQLDataBaseTool\n",
    "from langchain_core.prompts import PromptTemplate\n",
    "from langchain_google_genai import ChatGoogleGenerativeAI\n",
    "from langchain_core.output_parsers import StrOutputParser\n",
    "from langchain_core.runnables import RunnablePassthrough, RunnableLambda\n",
    "from operator import itemgetter\n",
    "from .extract_sql_query import extract_sql_query\n",
    "from agent_graph.load_tools_config import LoadToolsConfig\n",
    "\n",
    "TOOLS_CFG = LoadToolsConfig()\n",
    "\n",
    "\n",
    "class TravelSQLAgentTool:   \n",
    "    \"\"\"\n",
    "    A LangChain-based tool for querying a travel-related SQL database using natural language.\n",
    "\n",
    "    This agent uses a language model to convert user questions into SQL queries, executes those queries \n",
    "    against a SQLite database, and generates human-readable responses based on query results.\n",
    "\n",
    "    Attributes:\n",
    "        sql_agent_llm (ChatGoogleGenerativeAI): The LLM used for query generation and answering.\n",
    "        system_role (str): Prompt template to guide the model in formatting final answers.\n",
    "        db (SQLDatabase): SQLite database instance.\n",
    "        chain (Runnable): LangChain pipeline that generates SQL, runs the query, and returns an answer.\n",
    "\n",
    "    Methods:\n",
    "        __init__: Initializes the TravelSQLAgentTool by setting up the language model, SQL database, and query-answering pipeline.\n",
    "    \"\"\"\n",
    "\n",
    "    def __init__(self, llm: str, sqldb_directory: str, llm_temerature: float, llm_api_key: str) -> None:\n",
    "        \"\"\"\n",
    "        Initialize the TravelSQLAgentTool with model and database configurations.\n",
    "\n",
    "        Args:\n",
    "            llm (str): Name of the language model to use (e.g., 'gemini-2.5-flash').\n",
    "            sqldb_directory (str): Path to the SQLite database file.\n",
    "            llm_temerature (float): Temperature setting for the model (controls randomness).\n",
    "            llm_api_key (str): API key for the language model provider.\n",
    "        \"\"\"\n",
    "        self.sql_agent_llm = ChatGoogleGenerativeAI(\n",
    "            model=llm,\n",
    "            temperature=llm_temerature,\n",
    "            google_api_key=llm_api_key\n",
    "        )\n",
    "        self.system_role = \"\"\"Given the following user question, corresponding SQL query, and SQL result, answer the user question.\\n\n",
    "            Question: {question}\\n\n",
    "            SQL Query: {query}\\n\n",
    "            SQL Result: {result}\\n\n",
    "            Answer:\n",
    "            \"\"\"\n",
    "        self.db = SQLDatabase.from_uri(\n",
    "            f\"sqlite:///{sqldb_directory}\")\n",
    "        print(self.db.get_usable_table_names())\n",
    "\n",
    "        execute_query = QuerySQLDataBaseTool(db=self.db)\n",
    "        write_query = create_sql_query_chain(\n",
    "            self.sql_agent_llm, self.db)\n",
    "        clean_query_output = RunnableLambda(extract_sql_query)\n",
    "        answer_prompt = PromptTemplate.from_template(\n",
    "            self.system_role)\n",
    "\n",
    "        answer = answer_prompt | self.sql_agent_llm | StrOutputParser()\n",
    "        self.chain = (\n",
    "            RunnablePassthrough.assign(raw_query=write_query)\n",
    "            .assign(query=itemgetter(\"raw_query\") | clean_query_output)\n",
    "            .assign(result=itemgetter(\"query\") | execute_query)\n",
    "            | answer\n",
    "        )\n",
    "\n",
    "\n",
    "@tool\n",
    "def query_travel_sqldb(query: str) -> str:\n",
    "    \"\"\"Query the Swiss Airline SQL Database and access all the company's information. Input should be a search query.\"\"\"\n",
    "    agent = TravelSQLAgentTool(\n",
    "        llm=TOOLS_CFG.travel_sqlagent_llm,\n",
    "        sqldb_directory=TOOLS_CFG.travel_sqldb_directory,\n",
    "        llm_temerature=TOOLS_CFG.travel_sqlagent_llm_temperature,\n",
    "        llm_api_key=TOOLS_CFG.travel_sqlagent_api_key\n",
    "    )\n",
    "    response = agent.chain.invoke({\"question\": query})\n",
    "    return response\n"
   ]
  },
  {
   "cell_type": "code",
   "execution_count": null,
   "metadata": {},
   "outputs": [],
   "source": [
    "from agent_graph.load_tools_config import LoadToolsConfig\n",
    "\n",
    "TOOLS_CFG = LoadToolsConfig()\n",
    "\n",
    "@tool\n",
    "def query_travel_sqldb(query: str) -> str:\n",
    "    \"\"\"Query the Swiss Airline SQL Database and access all the company's information. Input should be a search query.\"\"\"\n",
    "    agent = TravelSQLAgentTool(\n",
    "        llm=TOOLS_CFG.travel_sqlagent_llm,\n",
    "        sqldb_directory=TOOLS_CFG.travel_sqldb_directory,\n",
    "        llm_temerature=TOOLS_CFG.travel_sqlagent_llm_temperature\n",
    "    )\n",
    "    response = agent.chain.invoke({\"question\": query})\n",
    "    return response"
   ]
  }
 ],
 "metadata": {
  "kernelspec": {
   "display_name": ".intermediate-chatbot",
   "language": "python",
   "name": "python3"
  },
  "language_info": {
   "codemirror_mode": {
    "name": "ipython",
    "version": 3
   },
   "file_extension": ".py",
   "mimetype": "text/x-python",
   "name": "python",
   "nbconvert_exporter": "python",
   "pygments_lexer": "ipython3",
   "version": "3.12.3"
  }
 },
 "nbformat": 4,
 "nbformat_minor": 2
}
